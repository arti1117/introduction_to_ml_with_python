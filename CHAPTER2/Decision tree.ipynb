{
 "cells": [
  {
   "cell_type": "code",
   "execution_count": 1,
   "metadata": {},
   "outputs": [],
   "source": [
    "from IPython.display import display\n",
    "import numpy as np\n",
    "import matplotlib.pyplot as plt\n",
    "import pandas as pd\n",
    "import mglearn\n",
    "from sklearn.model_selection import train_test_split"
   ]
  },
  {
   "cell_type": "code",
   "execution_count": 2,
   "metadata": {},
   "outputs": [
    {
     "data": {
      "image/png": "[encoded data removed]",
      "text/plain": [
       "<Figure size 432x288 with 1 Axes>"
      ]
     },
     "metadata": {
      "needs_background": "light"
     },
     "output_type": "display_data"
    }
   ],
   "source": [
    "mglearn.plots.plot_animal_tree()"
   ]
  },
  {
   "cell_type": "code",
   "execution_count": 3,
   "metadata": {},
   "outputs": [
    {
     "name": "stdout",
     "output_type": "stream",
     "text": [
      "1.0\n",
      "0.9370629370629371\n"
     ]
    }
   ],
   "source": [
    "from sklearn.tree import DecisionTreeClassifier\n",
    "from sklearn.datasets import load_breast_cancer\n",
    "cancer = load_breast_cancer()\n",
    "X_train, X_test, y_train, y_test = train_test_split(\n",
    "    cancer.data, cancer.target, stratify=cancer.target, random_state=42)\n",
    "tree = DecisionTreeClassifier(random_state=0)\n",
    "tree.fit(X_train, y_train)\n",
    "print(tree.score(X_train, y_train))\n",
    "print(tree.score(X_test, y_test))"
   ]
  },
  {
   "cell_type": "code",
   "execution_count": 4,
   "metadata": {},
   "outputs": [
    {
     "name": "stdout",
     "output_type": "stream",
     "text": [
      "0.9882629107981221\n",
      "0.951048951048951\n"
     ]
    }
   ],
   "source": [
    "tree = DecisionTreeClassifier(max_depth=4, random_state=0)\n",
    "tree.fit(X_train, y_train)\n",
    "print(tree.score(X_train, y_train))\n",
    "print(tree.score(X_test, y_test))"
   ]
  },
  {
   "cell_type": "code",
   "execution_count": 5,
   "metadata": {},
   "outputs": [],
   "source": [
    "from sklearn.tree import export_graphviz\n",
    "export_graphviz(tree, out_file='tree.dot', class_names=['Minus', 'Plus'],\n",
    "               feature_names=cancer.feature_names, impurity=False, filled=True)"
   ]
  },
  {
   "cell_type": "code",
   "execution_count": 6,
   "metadata": {},
   "outputs": [
    {
     "data": {
      "image/svg+xml": [
       "<?xml version=\"1.0\" encoding=\"UTF-8\" standalone=\"no\"?>\n",
       "<!DOCTYPE svg PUBLIC \"-//W3C//DTD SVG 1.1//EN\"\n",
       " \"http://www.w3.org/Graphics/SVG/1.1/DTD/svg11.dtd\">\n",
       "<!-- Generated by graphviz version 2.43.0 (0)\n",
       " -->\n",
       "<!-- Title: Tree Pages: 1 -->\n",
       "<svg width=\"1188pt\" height=\"477pt\"\n",
       " viewBox=\"0.00 0.00 1187.50 477.00\" xmlns=\"http://www.w3.org/2000/svg\" xmlns:xlink=\"http://www.w3.org/1999/xlink\">\n",
       "<g id=\"graph0\" class=\"graph\" transform=\"scale(1 1) rotate(0) translate(4 473)\">\n",
       "<title>Tree</title>\n",
       "<polygon fill=\"white\" stroke=\"transparent\" points=\"-4,4 -4,-473 1183.5,-473 1183.5,4 -4,4\"/>\n",
       "<!-- 0 -->\n",
       "<g id=\"node1\" class=\"node\">\n",
       "<title>0</title>\n",
       "<polygon fill=\"#afd7f4\" stroke=\"black\" points=\"734.5,-469 545.5,-469 545.5,-401 734.5,-401 734.5,-469\"/>\n",
       "<text text-anchor=\"middle\" x=\"640\" y=\"-453.8\" font-family=\"Times,serif\" font-size=\"14.00\">worst radius &lt;= 16.795</text>\n",
       "<text text-anchor=\"middle\" x=\"640\" y=\"-438.8\" font-family=\"Times,serif\" font-size=\"14.00\">samples = 426</text>\n",
       "<text text-anchor=\"middle\" x=\"640\" y=\"-423.8\" font-family=\"Times,serif\" font-size=\"14.00\">value = [159, 267]</text>\n",
       "<text text-anchor=\"middle\" x=\"640\" y=\"-408.8\" font-family=\"Times,serif\" font-size=\"14.00\">class = Plus</text>\n",
       "</g>\n",
       "<!-- 1 -->\n",
       "<g id=\"node2\" class=\"node\">\n",
       "<title>1</title>\n",
       "<polygon fill=\"#4ca6e8\" stroke=\"black\" points=\"629.5,-365 388.5,-365 388.5,-297 629.5,-297 629.5,-365\"/>\n",
       "<text text-anchor=\"middle\" x=\"509\" y=\"-349.8\" font-family=\"Times,serif\" font-size=\"14.00\">worst concave points &lt;= 0.136</text>\n",
       "<text text-anchor=\"middle\" x=\"509\" y=\"-334.8\" font-family=\"Times,serif\" font-size=\"14.00\">samples = 284</text>\n",
       "<text text-anchor=\"middle\" x=\"509\" y=\"-319.8\" font-family=\"Times,serif\" font-size=\"14.00\">value = [25, 259]</text>\n",
       "<text text-anchor=\"middle\" x=\"509\" y=\"-304.8\" font-family=\"Times,serif\" font-size=\"14.00\">class = Plus</text>\n",
       "</g>\n",
       "<!-- 0&#45;&gt;1 -->\n",
       "<g id=\"edge1\" class=\"edge\">\n",
       "<title>0&#45;&gt;1</title>\n",
       "<path fill=\"none\" stroke=\"black\" d=\"M597.47,-400.88C585.46,-391.53 572.26,-381.26 559.82,-371.57\"/>\n",
       "<polygon fill=\"black\" stroke=\"black\" points=\"561.81,-368.68 551.77,-365.3 557.51,-374.2 561.81,-368.68\"/>\n",
       "<text text-anchor=\"middle\" x=\"554.85\" y=\"-386.41\" font-family=\"Times,serif\" font-size=\"14.00\">True</text>\n",
       "</g>\n",
       "<!-- 14 -->\n",
       "<g id=\"node15\" class=\"node\">\n",
       "<title>14</title>\n",
       "<polygon fill=\"#e78945\" stroke=\"black\" points=\"840,-365 656,-365 656,-297 840,-297 840,-365\"/>\n",
       "<text text-anchor=\"middle\" x=\"748\" y=\"-349.8\" font-family=\"Times,serif\" font-size=\"14.00\">texture error &lt;= 0.473</text>\n",
       "<text text-anchor=\"middle\" x=\"748\" y=\"-334.8\" font-family=\"Times,serif\" font-size=\"14.00\">samples = 142</text>\n",
       "<text text-anchor=\"middle\" x=\"748\" y=\"-319.8\" font-family=\"Times,serif\" font-size=\"14.00\">value = [134, 8]</text>\n",
       "<text text-anchor=\"middle\" x=\"748\" y=\"-304.8\" font-family=\"Times,serif\" font-size=\"14.00\">class = Minus</text>\n",
       "</g>\n",
       "<!-- 0&#45;&gt;14 -->\n",
       "<g id=\"edge14\" class=\"edge\">\n",
       "<title>0&#45;&gt;14</title>\n",
       "<path fill=\"none\" stroke=\"black\" d=\"M675.06,-400.88C684.68,-391.8 695.22,-381.85 705.22,-372.4\"/>\n",
       "<polygon fill=\"black\" stroke=\"black\" points=\"707.87,-374.71 712.74,-365.3 703.07,-369.62 707.87,-374.71\"/>\n",
       "<text text-anchor=\"middle\" x=\"712.03\" y=\"-386.59\" font-family=\"Times,serif\" font-size=\"14.00\">False</text>\n",
       "</g>\n",
       "<!-- 2 -->\n",
       "<g id=\"node3\" class=\"node\">\n",
       "<title>2</title>\n",
       "<polygon fill=\"#3c9fe5\" stroke=\"black\" points=\"381,-261 205,-261 205,-193 381,-193 381,-261\"/>\n",
       "<text text-anchor=\"middle\" x=\"293\" y=\"-245.8\" font-family=\"Times,serif\" font-size=\"14.00\">radius error &lt;= 1.048</text>\n",
       "<text text-anchor=\"middle\" x=\"293\" y=\"-230.8\" font-family=\"Times,serif\" font-size=\"14.00\">samples = 252</text>\n",
       "<text text-anchor=\"middle\" x=\"293\" y=\"-215.8\" font-family=\"Times,serif\" font-size=\"14.00\">value = [4, 248]</text>\n",
       "<text text-anchor=\"middle\" x=\"293\" y=\"-200.8\" font-family=\"Times,serif\" font-size=\"14.00\">class = Plus</text>\n",
       "</g>\n",
       "<!-- 1&#45;&gt;2 -->\n",
       "<g id=\"edge2\" class=\"edge\">\n",
       "<title>1&#45;&gt;2</title>\n",
       "<path fill=\"none\" stroke=\"black\" d=\"M438.87,-296.88C417.64,-286.86 394.17,-275.77 372.37,-265.48\"/>\n",
       "<polygon fill=\"black\" stroke=\"black\" points=\"373.68,-262.23 363.15,-261.12 370.69,-268.56 373.68,-262.23\"/>\n",
       "</g>\n",
       "<!-- 7 -->\n",
       "<g id=\"node8\" class=\"node\">\n",
       "<title>7</title>\n",
       "<polygon fill=\"#f3c3a1\" stroke=\"black\" points=\"603,-261 415,-261 415,-193 603,-193 603,-261\"/>\n",
       "<text text-anchor=\"middle\" x=\"509\" y=\"-245.8\" font-family=\"Times,serif\" font-size=\"14.00\">worst texture &lt;= 25.62</text>\n",
       "<text text-anchor=\"middle\" x=\"509\" y=\"-230.8\" font-family=\"Times,serif\" font-size=\"14.00\">samples = 32</text>\n",
       "<text text-anchor=\"middle\" x=\"509\" y=\"-215.8\" font-family=\"Times,serif\" font-size=\"14.00\">value = [21, 11]</text>\n",
       "<text text-anchor=\"middle\" x=\"509\" y=\"-200.8\" font-family=\"Times,serif\" font-size=\"14.00\">class = Minus</text>\n",
       "</g>\n",
       "<!-- 1&#45;&gt;7 -->\n",
       "<g id=\"edge7\" class=\"edge\">\n",
       "<title>1&#45;&gt;7</title>\n",
       "<path fill=\"none\" stroke=\"black\" d=\"M509,-296.88C509,-288.78 509,-279.98 509,-271.47\"/>\n",
       "<polygon fill=\"black\" stroke=\"black\" points=\"512.5,-271.3 509,-261.3 505.5,-271.3 512.5,-271.3\"/>\n",
       "</g>\n",
       "<!-- 3 -->\n",
       "<g id=\"node4\" class=\"node\">\n",
       "<title>3</title>\n",
       "<polygon fill=\"#3b9ee5\" stroke=\"black\" points=\"216,-157 0,-157 0,-89 216,-89 216,-157\"/>\n",
       "<text text-anchor=\"middle\" x=\"108\" y=\"-141.8\" font-family=\"Times,serif\" font-size=\"14.00\">smoothness error &lt;= 0.003</text>\n",
       "<text text-anchor=\"middle\" x=\"108\" y=\"-126.8\" font-family=\"Times,serif\" font-size=\"14.00\">samples = 251</text>\n",
       "<text text-anchor=\"middle\" x=\"108\" y=\"-111.8\" font-family=\"Times,serif\" font-size=\"14.00\">value = [3, 248]</text>\n",
       "<text text-anchor=\"middle\" x=\"108\" y=\"-96.8\" font-family=\"Times,serif\" font-size=\"14.00\">class = Plus</text>\n",
       "</g>\n",
       "<!-- 2&#45;&gt;3 -->\n",
       "<g id=\"edge3\" class=\"edge\">\n",
       "<title>2&#45;&gt;3</title>\n",
       "<path fill=\"none\" stroke=\"black\" d=\"M232.94,-192.88C215.07,-183.04 195.36,-172.17 176.98,-162.03\"/>\n",
       "<polygon fill=\"black\" stroke=\"black\" points=\"178.53,-158.89 168.08,-157.12 175.15,-165.02 178.53,-158.89\"/>\n",
       "</g>\n",
       "<!-- 6 -->\n",
       "<g id=\"node7\" class=\"node\">\n",
       "<title>6</title>\n",
       "<polygon fill=\"#e58139\" stroke=\"black\" points=\"351.5,-149.5 234.5,-149.5 234.5,-96.5 351.5,-96.5 351.5,-149.5\"/>\n",
       "<text text-anchor=\"middle\" x=\"293\" y=\"-134.3\" font-family=\"Times,serif\" font-size=\"14.00\">samples = 1</text>\n",
       "<text text-anchor=\"middle\" x=\"293\" y=\"-119.3\" font-family=\"Times,serif\" font-size=\"14.00\">value = [1, 0]</text>\n",
       "<text text-anchor=\"middle\" x=\"293\" y=\"-104.3\" font-family=\"Times,serif\" font-size=\"14.00\">class = Minus</text>\n",
       "</g>\n",
       "<!-- 2&#45;&gt;6 -->\n",
       "<g id=\"edge6\" class=\"edge\">\n",
       "<title>2&#45;&gt;6</title>\n",
       "<path fill=\"none\" stroke=\"black\" d=\"M293,-192.88C293,-182.33 293,-170.6 293,-159.85\"/>\n",
       "<polygon fill=\"black\" stroke=\"black\" points=\"296.5,-159.52 293,-149.52 289.5,-159.52 296.5,-159.52\"/>\n",
       "</g>\n",
       "<!-- 4 -->\n",
       "<g id=\"node5\" class=\"node\">\n",
       "<title>4</title>\n",
       "<polygon fill=\"#7bbeee\" stroke=\"black\" points=\"143.5,-53 30.5,-53 30.5,0 143.5,0 143.5,-53\"/>\n",
       "<text text-anchor=\"middle\" x=\"87\" y=\"-37.8\" font-family=\"Times,serif\" font-size=\"14.00\">samples = 4</text>\n",
       "<text text-anchor=\"middle\" x=\"87\" y=\"-22.8\" font-family=\"Times,serif\" font-size=\"14.00\">value = [1, 3]</text>\n",
       "<text text-anchor=\"middle\" x=\"87\" y=\"-7.8\" font-family=\"Times,serif\" font-size=\"14.00\">class = Plus</text>\n",
       "</g>\n",
       "<!-- 3&#45;&gt;4 -->\n",
       "<g id=\"edge4\" class=\"edge\">\n",
       "<title>3&#45;&gt;4</title>\n",
       "<path fill=\"none\" stroke=\"black\" d=\"M100.66,-88.95C98.81,-80.62 96.81,-71.65 94.93,-63.2\"/>\n",
       "<polygon fill=\"black\" stroke=\"black\" points=\"98.31,-62.24 92.72,-53.24 91.47,-63.76 98.31,-62.24\"/>\n",
       "</g>\n",
       "<!-- 5 -->\n",
       "<g id=\"node6\" class=\"node\">\n",
       "<title>5</title>\n",
       "<polygon fill=\"#3b9ee5\" stroke=\"black\" points=\"292.5,-53 161.5,-53 161.5,0 292.5,0 292.5,-53\"/>\n",
       "<text text-anchor=\"middle\" x=\"227\" y=\"-37.8\" font-family=\"Times,serif\" font-size=\"14.00\">samples = 247</text>\n",
       "<text text-anchor=\"middle\" x=\"227\" y=\"-22.8\" font-family=\"Times,serif\" font-size=\"14.00\">value = [2, 245]</text>\n",
       "<text text-anchor=\"middle\" x=\"227\" y=\"-7.8\" font-family=\"Times,serif\" font-size=\"14.00\">class = Plus</text>\n",
       "</g>\n",
       "<!-- 3&#45;&gt;5 -->\n",
       "<g id=\"edge5\" class=\"edge\">\n",
       "<title>3&#45;&gt;5</title>\n",
       "<path fill=\"none\" stroke=\"black\" d=\"M149.62,-88.95C161.6,-79.43 174.65,-69.07 186.56,-59.62\"/>\n",
       "<polygon fill=\"black\" stroke=\"black\" points=\"188.94,-62.2 194.59,-53.24 184.58,-56.71 188.94,-62.2\"/>\n",
       "</g>\n",
       "<!-- 8 -->\n",
       "<g id=\"node9\" class=\"node\">\n",
       "<title>8</title>\n",
       "<polygon fill=\"#7bbeee\" stroke=\"black\" points=\"590,-157 370,-157 370,-89 590,-89 590,-157\"/>\n",
       "<text text-anchor=\"middle\" x=\"480\" y=\"-141.8\" font-family=\"Times,serif\" font-size=\"14.00\">worst smoothness &lt;= 0.179</text>\n",
       "<text text-anchor=\"middle\" x=\"480\" y=\"-126.8\" font-family=\"Times,serif\" font-size=\"14.00\">samples = 12</text>\n",
       "<text text-anchor=\"middle\" x=\"480\" y=\"-111.8\" font-family=\"Times,serif\" font-size=\"14.00\">value = [3, 9]</text>\n",
       "<text text-anchor=\"middle\" x=\"480\" y=\"-96.8\" font-family=\"Times,serif\" font-size=\"14.00\">class = Plus</text>\n",
       "</g>\n",
       "<!-- 7&#45;&gt;8 -->\n",
       "<g id=\"edge8\" class=\"edge\">\n",
       "<title>7&#45;&gt;8</title>\n",
       "<path fill=\"none\" stroke=\"black\" d=\"M499.58,-192.88C497.25,-184.69 494.72,-175.79 492.28,-167.19\"/>\n",
       "<polygon fill=\"black\" stroke=\"black\" points=\"495.57,-165.96 489.47,-157.3 488.84,-167.88 495.57,-165.96\"/>\n",
       "</g>\n",
       "<!-- 11 -->\n",
       "<g id=\"node12\" class=\"node\">\n",
       "<title>11</title>\n",
       "<polygon fill=\"#e88f4f\" stroke=\"black\" points=\"815.5,-157 608.5,-157 608.5,-89 815.5,-89 815.5,-157\"/>\n",
       "<text text-anchor=\"middle\" x=\"712\" y=\"-141.8\" font-family=\"Times,serif\" font-size=\"14.00\">worst symmetry &lt;= 0.268</text>\n",
       "<text text-anchor=\"middle\" x=\"712\" y=\"-126.8\" font-family=\"Times,serif\" font-size=\"14.00\">samples = 20</text>\n",
       "<text text-anchor=\"middle\" x=\"712\" y=\"-111.8\" font-family=\"Times,serif\" font-size=\"14.00\">value = [18, 2]</text>\n",
       "<text text-anchor=\"middle\" x=\"712\" y=\"-96.8\" font-family=\"Times,serif\" font-size=\"14.00\">class = Minus</text>\n",
       "</g>\n",
       "<!-- 7&#45;&gt;11 -->\n",
       "<g id=\"edge11\" class=\"edge\">\n",
       "<title>7&#45;&gt;11</title>\n",
       "<path fill=\"none\" stroke=\"black\" d=\"M574.91,-192.88C594.78,-182.9 616.73,-171.87 637.13,-161.62\"/>\n",
       "<polygon fill=\"black\" stroke=\"black\" points=\"638.71,-164.74 646.08,-157.12 635.57,-158.49 638.71,-164.74\"/>\n",
       "</g>\n",
       "<!-- 9 -->\n",
       "<g id=\"node10\" class=\"node\">\n",
       "<title>9</title>\n",
       "<polygon fill=\"#4fa8e8\" stroke=\"black\" points=\"437,-53 323,-53 323,0 437,0 437,-53\"/>\n",
       "<text text-anchor=\"middle\" x=\"380\" y=\"-37.8\" font-family=\"Times,serif\" font-size=\"14.00\">samples = 10</text>\n",
       "<text text-anchor=\"middle\" x=\"380\" y=\"-22.8\" font-family=\"Times,serif\" font-size=\"14.00\">value = [1, 9]</text>\n",
       "<text text-anchor=\"middle\" x=\"380\" y=\"-7.8\" font-family=\"Times,serif\" font-size=\"14.00\">class = Plus</text>\n",
       "</g>\n",
       "<!-- 8&#45;&gt;9 -->\n",
       "<g id=\"edge9\" class=\"edge\">\n",
       "<title>8&#45;&gt;9</title>\n",
       "<path fill=\"none\" stroke=\"black\" d=\"M445.02,-88.95C435.15,-79.62 424.41,-69.47 414.57,-60.16\"/>\n",
       "<polygon fill=\"black\" stroke=\"black\" points=\"416.91,-57.56 407.23,-53.24 412.1,-62.65 416.91,-57.56\"/>\n",
       "</g>\n",
       "<!-- 10 -->\n",
       "<g id=\"node11\" class=\"node\">\n",
       "<title>10</title>\n",
       "<polygon fill=\"#e58139\" stroke=\"black\" points=\"572.5,-53 455.5,-53 455.5,0 572.5,0 572.5,-53\"/>\n",
       "<text text-anchor=\"middle\" x=\"514\" y=\"-37.8\" font-family=\"Times,serif\" font-size=\"14.00\">samples = 2</text>\n",
       "<text text-anchor=\"middle\" x=\"514\" y=\"-22.8\" font-family=\"Times,serif\" font-size=\"14.00\">value = [2, 0]</text>\n",
       "<text text-anchor=\"middle\" x=\"514\" y=\"-7.8\" font-family=\"Times,serif\" font-size=\"14.00\">class = Minus</text>\n",
       "</g>\n",
       "<!-- 8&#45;&gt;10 -->\n",
       "<g id=\"edge10\" class=\"edge\">\n",
       "<title>8&#45;&gt;10</title>\n",
       "<path fill=\"none\" stroke=\"black\" d=\"M491.89,-88.95C494.95,-80.44 498.26,-71.26 501.35,-62.65\"/>\n",
       "<polygon fill=\"black\" stroke=\"black\" points=\"504.65,-63.83 504.74,-53.24 498.06,-61.46 504.65,-63.83\"/>\n",
       "</g>\n",
       "<!-- 12 -->\n",
       "<g id=\"node13\" class=\"node\">\n",
       "<title>12</title>\n",
       "<polygon fill=\"#9ccef2\" stroke=\"black\" points=\"709.5,-53 596.5,-53 596.5,0 709.5,0 709.5,-53\"/>\n",
       "<text text-anchor=\"middle\" x=\"653\" y=\"-37.8\" font-family=\"Times,serif\" font-size=\"14.00\">samples = 3</text>\n",
       "<text text-anchor=\"middle\" x=\"653\" y=\"-22.8\" font-family=\"Times,serif\" font-size=\"14.00\">value = [1, 2]</text>\n",
       "<text text-anchor=\"middle\" x=\"653\" y=\"-7.8\" font-family=\"Times,serif\" font-size=\"14.00\">class = Plus</text>\n",
       "</g>\n",
       "<!-- 11&#45;&gt;12 -->\n",
       "<g id=\"edge12\" class=\"edge\">\n",
       "<title>11&#45;&gt;12</title>\n",
       "<path fill=\"none\" stroke=\"black\" d=\"M691.36,-88.95C685.88,-80.17 679.95,-70.66 674.42,-61.82\"/>\n",
       "<polygon fill=\"black\" stroke=\"black\" points=\"677.33,-59.87 669.07,-53.24 671.4,-63.57 677.33,-59.87\"/>\n",
       "</g>\n",
       "<!-- 13 -->\n",
       "<g id=\"node14\" class=\"node\">\n",
       "<title>13</title>\n",
       "<polygon fill=\"#e58139\" stroke=\"black\" points=\"850,-53 728,-53 728,0 850,0 850,-53\"/>\n",
       "<text text-anchor=\"middle\" x=\"789\" y=\"-37.8\" font-family=\"Times,serif\" font-size=\"14.00\">samples = 17</text>\n",
       "<text text-anchor=\"middle\" x=\"789\" y=\"-22.8\" font-family=\"Times,serif\" font-size=\"14.00\">value = [17, 0]</text>\n",
       "<text text-anchor=\"middle\" x=\"789\" y=\"-7.8\" font-family=\"Times,serif\" font-size=\"14.00\">class = Minus</text>\n",
       "</g>\n",
       "<!-- 11&#45;&gt;13 -->\n",
       "<g id=\"edge13\" class=\"edge\">\n",
       "<title>11&#45;&gt;13</title>\n",
       "<path fill=\"none\" stroke=\"black\" d=\"M738.93,-88.95C746.24,-79.98 754.15,-70.27 761.49,-61.26\"/>\n",
       "<polygon fill=\"black\" stroke=\"black\" points=\"764.43,-63.2 768.03,-53.24 759,-58.78 764.43,-63.2\"/>\n",
       "</g>\n",
       "<!-- 15 -->\n",
       "<g id=\"node16\" class=\"node\">\n",
       "<title>15</title>\n",
       "<polygon fill=\"#399de5\" stroke=\"black\" points=\"804.5,-253.5 691.5,-253.5 691.5,-200.5 804.5,-200.5 804.5,-253.5\"/>\n",
       "<text text-anchor=\"middle\" x=\"748\" y=\"-238.3\" font-family=\"Times,serif\" font-size=\"14.00\">samples = 5</text>\n",
       "<text text-anchor=\"middle\" x=\"748\" y=\"-223.3\" font-family=\"Times,serif\" font-size=\"14.00\">value = [0, 5]</text>\n",
       "<text text-anchor=\"middle\" x=\"748\" y=\"-208.3\" font-family=\"Times,serif\" font-size=\"14.00\">class = Plus</text>\n",
       "</g>\n",
       "<!-- 14&#45;&gt;15 -->\n",
       "<g id=\"edge15\" class=\"edge\">\n",
       "<title>14&#45;&gt;15</title>\n",
       "<path fill=\"none\" stroke=\"black\" d=\"M748,-296.88C748,-286.33 748,-274.6 748,-263.85\"/>\n",
       "<polygon fill=\"black\" stroke=\"black\" points=\"751.5,-263.52 748,-253.52 744.5,-263.52 751.5,-263.52\"/>\n",
       "</g>\n",
       "<!-- 16 -->\n",
       "<g id=\"node17\" class=\"node\">\n",
       "<title>16</title>\n",
       "<polygon fill=\"#e6843d\" stroke=\"black\" points=\"1033.5,-261 830.5,-261 830.5,-193 1033.5,-193 1033.5,-261\"/>\n",
       "<text text-anchor=\"middle\" x=\"932\" y=\"-245.8\" font-family=\"Times,serif\" font-size=\"14.00\">worst concavity &lt;= 0.191</text>\n",
       "<text text-anchor=\"middle\" x=\"932\" y=\"-230.8\" font-family=\"Times,serif\" font-size=\"14.00\">samples = 137</text>\n",
       "<text text-anchor=\"middle\" x=\"932\" y=\"-215.8\" font-family=\"Times,serif\" font-size=\"14.00\">value = [134, 3]</text>\n",
       "<text text-anchor=\"middle\" x=\"932\" y=\"-200.8\" font-family=\"Times,serif\" font-size=\"14.00\">class = Minus</text>\n",
       "</g>\n",
       "<!-- 14&#45;&gt;16 -->\n",
       "<g id=\"edge16\" class=\"edge\">\n",
       "<title>14&#45;&gt;16</title>\n",
       "<path fill=\"none\" stroke=\"black\" d=\"M807.74,-296.88C825.5,-287.04 845.11,-276.17 863.39,-266.03\"/>\n",
       "<polygon fill=\"black\" stroke=\"black\" points=\"865.2,-269.03 872.25,-261.12 861.8,-262.91 865.2,-269.03\"/>\n",
       "</g>\n",
       "<!-- 17 -->\n",
       "<g id=\"node18\" class=\"node\">\n",
       "<title>17</title>\n",
       "<polygon fill=\"#bddef6\" stroke=\"black\" points=\"1030.5,-157 833.5,-157 833.5,-89 1030.5,-89 1030.5,-157\"/>\n",
       "<text text-anchor=\"middle\" x=\"932\" y=\"-141.8\" font-family=\"Times,serif\" font-size=\"14.00\">worst texture &lt;= 30.975</text>\n",
       "<text text-anchor=\"middle\" x=\"932\" y=\"-126.8\" font-family=\"Times,serif\" font-size=\"14.00\">samples = 5</text>\n",
       "<text text-anchor=\"middle\" x=\"932\" y=\"-111.8\" font-family=\"Times,serif\" font-size=\"14.00\">value = [2, 3]</text>\n",
       "<text text-anchor=\"middle\" x=\"932\" y=\"-96.8\" font-family=\"Times,serif\" font-size=\"14.00\">class = Plus</text>\n",
       "</g>\n",
       "<!-- 16&#45;&gt;17 -->\n",
       "<g id=\"edge17\" class=\"edge\">\n",
       "<title>16&#45;&gt;17</title>\n",
       "<path fill=\"none\" stroke=\"black\" d=\"M932,-192.88C932,-184.78 932,-175.98 932,-167.47\"/>\n",
       "<polygon fill=\"black\" stroke=\"black\" points=\"935.5,-167.3 932,-157.3 928.5,-167.3 935.5,-167.3\"/>\n",
       "</g>\n",
       "<!-- 20 -->\n",
       "<g id=\"node21\" class=\"node\">\n",
       "<title>20</title>\n",
       "<polygon fill=\"#e58139\" stroke=\"black\" points=\"1179.5,-149.5 1048.5,-149.5 1048.5,-96.5 1179.5,-96.5 1179.5,-149.5\"/>\n",
       "<text text-anchor=\"middle\" x=\"1114\" y=\"-134.3\" font-family=\"Times,serif\" font-size=\"14.00\">samples = 132</text>\n",
       "<text text-anchor=\"middle\" x=\"1114\" y=\"-119.3\" font-family=\"Times,serif\" font-size=\"14.00\">value = [132, 0]</text>\n",
       "<text text-anchor=\"middle\" x=\"1114\" y=\"-104.3\" font-family=\"Times,serif\" font-size=\"14.00\">class = Minus</text>\n",
       "</g>\n",
       "<!-- 16&#45;&gt;20 -->\n",
       "<g id=\"edge20\" class=\"edge\">\n",
       "<title>16&#45;&gt;20</title>\n",
       "<path fill=\"none\" stroke=\"black\" d=\"M991.09,-192.88C1013.17,-180.51 1038.11,-166.53 1059.73,-154.41\"/>\n",
       "<polygon fill=\"black\" stroke=\"black\" points=\"1061.45,-157.46 1068.46,-149.52 1058.03,-151.36 1061.45,-157.46\"/>\n",
       "</g>\n",
       "<!-- 18 -->\n",
       "<g id=\"node19\" class=\"node\">\n",
       "<title>18</title>\n",
       "<polygon fill=\"#399de5\" stroke=\"black\" points=\"984.5,-53 871.5,-53 871.5,0 984.5,0 984.5,-53\"/>\n",
       "<text text-anchor=\"middle\" x=\"928\" y=\"-37.8\" font-family=\"Times,serif\" font-size=\"14.00\">samples = 3</text>\n",
       "<text text-anchor=\"middle\" x=\"928\" y=\"-22.8\" font-family=\"Times,serif\" font-size=\"14.00\">value = [0, 3]</text>\n",
       "<text text-anchor=\"middle\" x=\"928\" y=\"-7.8\" font-family=\"Times,serif\" font-size=\"14.00\">class = Plus</text>\n",
       "</g>\n",
       "<!-- 17&#45;&gt;18 -->\n",
       "<g id=\"edge18\" class=\"edge\">\n",
       "<title>17&#45;&gt;18</title>\n",
       "<path fill=\"none\" stroke=\"black\" d=\"M930.6,-88.95C930.25,-80.72 929.88,-71.85 929.52,-63.48\"/>\n",
       "<polygon fill=\"black\" stroke=\"black\" points=\"933.01,-63.08 929.09,-53.24 926.02,-63.38 933.01,-63.08\"/>\n",
       "</g>\n",
       "<!-- 19 -->\n",
       "<g id=\"node20\" class=\"node\">\n",
       "<title>19</title>\n",
       "<polygon fill=\"#e58139\" stroke=\"black\" points=\"1119.5,-53 1002.5,-53 1002.5,0 1119.5,0 1119.5,-53\"/>\n",
       "<text text-anchor=\"middle\" x=\"1061\" y=\"-37.8\" font-family=\"Times,serif\" font-size=\"14.00\">samples = 2</text>\n",
       "<text text-anchor=\"middle\" x=\"1061\" y=\"-22.8\" font-family=\"Times,serif\" font-size=\"14.00\">value = [2, 0]</text>\n",
       "<text text-anchor=\"middle\" x=\"1061\" y=\"-7.8\" font-family=\"Times,serif\" font-size=\"14.00\">class = Minus</text>\n",
       "</g>\n",
       "<!-- 17&#45;&gt;19 -->\n",
       "<g id=\"edge19\" class=\"edge\">\n",
       "<title>17&#45;&gt;19</title>\n",
       "<path fill=\"none\" stroke=\"black\" d=\"M977.12,-88.95C990.23,-79.34 1004.52,-68.87 1017.53,-59.34\"/>\n",
       "<polygon fill=\"black\" stroke=\"black\" points=\"1019.87,-61.97 1025.87,-53.24 1015.73,-56.32 1019.87,-61.97\"/>\n",
       "</g>\n",
       "</g>\n",
       "</svg>\n"
      ],
      "text/plain": [
       "<graphviz.files.Source at 0x7f63706965e0>"
      ]
     },
     "metadata": {},
     "output_type": "display_data"
    }
   ],
   "source": [
    "import graphviz\n",
    "\n",
    "with open('tree.dot') as f:\n",
    "    dot_graph = f.read()\n",
    "display(graphviz.Source(dot_graph))"
   ]
  },
  {
   "cell_type": "code",
   "execution_count": 7,
   "metadata": {},
   "outputs": [
    {
     "name": "stdout",
     "output_type": "stream",
     "text": [
      "[0.         0.         0.         0.         0.         0.\n",
      " 0.         0.         0.         0.         0.01019737 0.04839825\n",
      " 0.         0.         0.0024156  0.         0.         0.\n",
      " 0.         0.         0.72682851 0.0458159  0.         0.\n",
      " 0.0141577  0.         0.018188   0.1221132  0.01188548 0.        ]\n"
     ]
    }
   ],
   "source": [
    "print(tree.feature_importances_)"
   ]
  },
  {
   "cell_type": "code",
   "execution_count": 8,
   "metadata": {},
   "outputs": [
    {
     "data": {
      "image/png": "[encoded data removed]",
      "text/plain": [
       "<Figure size 432x288 with 1 Axes>"
      ]
     },
     "metadata": {
      "needs_background": "light"
     },
     "output_type": "display_data"
    }
   ],
   "source": [
    "def plot_feature_importances_cancer(model):\n",
    "    n_features = cancer.data.shape[1]\n",
    "    plt.barh(np.arange(n_features), model.feature_importances_, align='center')\n",
    "    plt.yticks(np.arange(n_features), cancer.feature_names)\n",
    "    plt.xlabel('Feature Importances')\n",
    "    plt.ylabel('Feature')\n",
    "    plt.ylim(-1, n_features)\n",
    "    \n",
    "plot_feature_importances_cancer(tree)"
   ]
  },
  {
   "cell_type": "code",
   "execution_count": 9,
   "metadata": {},
   "outputs": [
    {
     "name": "stdout",
     "output_type": "stream",
     "text": [
      "Feature importances: [0. 1.]\n"
     ]
    },
    {
     "data": {
      "image/svg+xml": [
       "<?xml version=\"1.0\" encoding=\"UTF-8\" standalone=\"no\"?>\n",
       "<!DOCTYPE svg PUBLIC \"-//W3C//DTD SVG 1.1//EN\"\n",
       " \"http://www.w3.org/Graphics/SVG/1.1/DTD/svg11.dtd\">\n",
       "<!-- Generated by graphviz version 2.43.0 (0)\n",
       " -->\n",
       "<!-- Title: Tree Pages: 1 -->\n",
       "<svg width=\"345pt\" height=\"224pt\"\n",
       " viewBox=\"0.00 0.00 345.00 224.00\" xmlns=\"http://www.w3.org/2000/svg\" xmlns:xlink=\"http://www.w3.org/1999/xlink\">\n",
       "<g id=\"graph0\" class=\"graph\" transform=\"scale(1 1) rotate(0) translate(4 220)\">\n",
       "<title>Tree</title>\n",
       "<polygon fill=\"white\" stroke=\"transparent\" points=\"-4,4 -4,-220 341,-220 341,4 -4,4\"/>\n",
       "<!-- 0 -->\n",
       "<g id=\"node1\" class=\"node\">\n",
       "<title>0</title>\n",
       "<polygon fill=\"#ffffff\" stroke=\"black\" points=\"198.5,-216 67.5,-216 67.5,-163 198.5,-163 198.5,-216\"/>\n",
       "<text text-anchor=\"middle\" x=\"133\" y=\"-200.8\" font-family=\"Times,serif\" font-size=\"14.00\">X[1] &lt;= &#45;5.814</text>\n",
       "<text text-anchor=\"middle\" x=\"133\" y=\"-185.8\" font-family=\"Times,serif\" font-size=\"14.00\">samples = 100</text>\n",
       "<text text-anchor=\"middle\" x=\"133\" y=\"-170.8\" font-family=\"Times,serif\" font-size=\"14.00\">value = [50, 50]</text>\n",
       "</g>\n",
       "<!-- 1 -->\n",
       "<g id=\"node2\" class=\"node\">\n",
       "<title>1</title>\n",
       "<polygon fill=\"#e58139\" stroke=\"black\" points=\"122,-119.5 0,-119.5 0,-81.5 122,-81.5 122,-119.5\"/>\n",
       "<text text-anchor=\"middle\" x=\"61\" y=\"-104.3\" font-family=\"Times,serif\" font-size=\"14.00\">samples = 25</text>\n",
       "<text text-anchor=\"middle\" x=\"61\" y=\"-89.3\" font-family=\"Times,serif\" font-size=\"14.00\">value = [25, 0]</text>\n",
       "</g>\n",
       "<!-- 0&#45;&gt;1 -->\n",
       "<g id=\"edge1\" class=\"edge\">\n",
       "<title>0&#45;&gt;1</title>\n",
       "<path fill=\"none\" stroke=\"black\" d=\"M111.79,-162.87C102.51,-151.66 91.64,-138.53 82.35,-127.29\"/>\n",
       "<polygon fill=\"black\" stroke=\"black\" points=\"84.97,-124.98 75.9,-119.51 79.58,-129.44 84.97,-124.98\"/>\n",
       "<text text-anchor=\"middle\" x=\"73.55\" y=\"-140.7\" font-family=\"Times,serif\" font-size=\"14.00\">True</text>\n",
       "</g>\n",
       "<!-- 2 -->\n",
       "<g id=\"node3\" class=\"node\">\n",
       "<title>2</title>\n",
       "<polygon fill=\"#9ccef2\" stroke=\"black\" points=\"271.5,-127 140.5,-127 140.5,-74 271.5,-74 271.5,-127\"/>\n",
       "<text text-anchor=\"middle\" x=\"206\" y=\"-111.8\" font-family=\"Times,serif\" font-size=\"14.00\">X[1] &lt;= 5.348</text>\n",
       "<text text-anchor=\"middle\" x=\"206\" y=\"-96.8\" font-family=\"Times,serif\" font-size=\"14.00\">samples = 75</text>\n",
       "<text text-anchor=\"middle\" x=\"206\" y=\"-81.8\" font-family=\"Times,serif\" font-size=\"14.00\">value = [25, 50]</text>\n",
       "</g>\n",
       "<!-- 0&#45;&gt;2 -->\n",
       "<g id=\"edge2\" class=\"edge\">\n",
       "<title>0&#45;&gt;2</title>\n",
       "<path fill=\"none\" stroke=\"black\" d=\"M154.51,-162.87C161.79,-154.18 170.05,-144.35 177.77,-135.14\"/>\n",
       "<polygon fill=\"black\" stroke=\"black\" points=\"180.65,-137.16 184.39,-127.25 175.28,-132.66 180.65,-137.16\"/>\n",
       "<text text-anchor=\"middle\" x=\"186.57\" y=\"-148.45\" font-family=\"Times,serif\" font-size=\"14.00\">False</text>\n",
       "</g>\n",
       "<!-- 3 -->\n",
       "<g id=\"node4\" class=\"node\">\n",
       "<title>3</title>\n",
       "<polygon fill=\"#399de5\" stroke=\"black\" points=\"197,-38 75,-38 75,0 197,0 197,-38\"/>\n",
       "<text text-anchor=\"middle\" x=\"136\" y=\"-22.8\" font-family=\"Times,serif\" font-size=\"14.00\">samples = 50</text>\n",
       "<text text-anchor=\"middle\" x=\"136\" y=\"-7.8\" font-family=\"Times,serif\" font-size=\"14.00\">value = [0, 50]</text>\n",
       "</g>\n",
       "<!-- 2&#45;&gt;3 -->\n",
       "<g id=\"edge3\" class=\"edge\">\n",
       "<title>2&#45;&gt;3</title>\n",
       "<path fill=\"none\" stroke=\"black\" d=\"M183.47,-73.91C175.55,-64.92 166.66,-54.82 158.73,-45.82\"/>\n",
       "<polygon fill=\"black\" stroke=\"black\" points=\"161.29,-43.43 152.06,-38.24 156.04,-48.06 161.29,-43.43\"/>\n",
       "</g>\n",
       "<!-- 4 -->\n",
       "<g id=\"node5\" class=\"node\">\n",
       "<title>4</title>\n",
       "<polygon fill=\"#e58139\" stroke=\"black\" points=\"337,-38 215,-38 215,0 337,0 337,-38\"/>\n",
       "<text text-anchor=\"middle\" x=\"276\" y=\"-22.8\" font-family=\"Times,serif\" font-size=\"14.00\">samples = 25</text>\n",
       "<text text-anchor=\"middle\" x=\"276\" y=\"-7.8\" font-family=\"Times,serif\" font-size=\"14.00\">value = [25, 0]</text>\n",
       "</g>\n",
       "<!-- 2&#45;&gt;4 -->\n",
       "<g id=\"edge4\" class=\"edge\">\n",
       "<title>2&#45;&gt;4</title>\n",
       "<path fill=\"none\" stroke=\"black\" d=\"M228.53,-73.91C236.45,-64.92 245.34,-54.82 253.27,-45.82\"/>\n",
       "<polygon fill=\"black\" stroke=\"black\" points=\"255.96,-48.06 259.94,-38.24 250.71,-43.43 255.96,-48.06\"/>\n",
       "</g>\n",
       "</g>\n",
       "</svg>\n"
      ],
      "text/plain": [
       "<graphviz.files.Source at 0x7f63526a0640>"
      ]
     },
     "metadata": {},
     "output_type": "display_data"
    },
    {
     "data": {
      "image/png": "[encoded data removed]",
      "text/plain": [
       "<Figure size 432x288 with 1 Axes>"
      ]
     },
     "metadata": {},
     "output_type": "display_data"
    }
   ],
   "source": [
    "tree = mglearn.plots.plot_tree_not_monotone()\n",
    "display(tree)"
   ]
  },
  {
   "cell_type": "code",
   "execution_count": 12,
   "metadata": {},
   "outputs": [
    {
     "data": {
      "text/plain": [
       "[<matplotlib.lines.Line2D at 0x7f63521676d0>]"
      ]
     },
     "execution_count": 12,
     "metadata": {},
     "output_type": "execute_result"
    },
    {
     "data": {
      "image/png": "[encoded data removed]",
      "text/plain": [
       "<Figure size 432x288 with 1 Axes>"
      ]
     },
     "metadata": {
      "needs_background": "light"
     },
     "output_type": "display_data"
    }
   ],
   "source": [
    "import os\n",
    "\n",
    "ram_prices = pd.read_csv(os.path.join(mglearn.datasets.DATA_PATH, 'ram_price.csv'))\n",
    "\n",
    "plt.semilogy(ram_prices.date, ram_prices.price)"
   ]
  },
  {
   "cell_type": "code",
   "execution_count": 13,
   "metadata": {},
   "outputs": [
    {
     "name": "stderr",
     "output_type": "stream",
     "text": [
      "<ipython-input-13-3e0d21f7bb91>:7: FutureWarning: Support for multi-dimensional indexing (e.g. `obj[:, None]`) is deprecated and will be removed in a future version.  Convert to a numpy array before indexing instead.\n",
      "  X_train = data_train.date[:, np.newaxis]\n",
      "<ipython-input-13-3e0d21f7bb91>:13: FutureWarning: Support for multi-dimensional indexing (e.g. `obj[:, None]`) is deprecated and will be removed in a future version.  Convert to a numpy array before indexing instead.\n",
      "  X_all = ram_prices.date[:, np.newaxis]\n"
     ]
    }
   ],
   "source": [
    "from sklearn.tree import DecisionTreeRegressor\n",
    "from sklearn.linear_model import LinearRegression\n",
    "\n",
    "data_train = ram_prices[ram_prices.date < 2000]\n",
    "data_test = ram_prices[ram_prices.date >= 2000]\n",
    "\n",
    "X_train = data_train.date[:, np.newaxis]\n",
    "y_train = np.log(data_train.price)\n",
    "\n",
    "tree = DecisionTreeRegressor().fit(X_train, y_train)\n",
    "linear_reg = LinearRegression().fit(X_train, y_train)\n",
    "\n",
    "X_all = ram_prices.date[:, np.newaxis]\n",
    "\n",
    "pred_tree = tree.predict(X_all)\n",
    "pred_lr = linear_reg.predict(X_all)\n",
    "\n",
    "price_tree = np.exp(pred_tree)\n",
    "price_lr = np.exp(pred_lr)"
   ]
  },
  {
   "cell_type": "code",
   "execution_count": 16,
   "metadata": {},
   "outputs": [
    {
     "data": {
      "text/plain": [
       "<matplotlib.legend.Legend at 0x7f63527ecc10>"
      ]
     },
     "execution_count": 16,
     "metadata": {},
     "output_type": "execute_result"
    },
    {
     "data": {
      "image/png": "[encoded data removed]",
      "text/plain": [
       "<Figure size 432x288 with 1 Axes>"
      ]
     },
     "metadata": {
      "needs_background": "light"
     },
     "output_type": "display_data"
    }
   ],
   "source": [
    "plt.semilogy(data_train.date, data_train.price, label='Training')\n",
    "plt.semilogy(data_test.date, data_test.price, label='Testing')\n",
    "plt.semilogy(ram_prices.date, price_tree, label='Tree prediction')\n",
    "plt.semilogy(ram_prices.date, price_lr, label='Linear')\n",
    "plt.legend()"
   ]
  },
  {
   "cell_type": "code",
   "execution_count": null,
   "metadata": {},
   "outputs": [],
   "source": []
  }
 ],
 "metadata": {
  "kernelspec": {
   "display_name": "Python 3",
   "language": "python",
   "name": "python3"
  },
  "language_info": {
   "codemirror_mode": {
    "name": "ipython",
    "version": 3
   },
   "file_extension": ".py",
   "mimetype": "text/x-python",
   "name": "python",
   "nbconvert_exporter": "python",
   "pygments_lexer": "ipython3",
   "version": "3.8.8"
  }
 },
 "nbformat": 4,
 "nbformat_minor": 4
}
