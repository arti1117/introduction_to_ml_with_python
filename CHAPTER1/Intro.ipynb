{
 "cells": [
  {
   "cell_type": "code",
   "execution_count": 1,
   "id": "faced-naples",
   "metadata": {},
   "outputs": [
    {
     "name": "stdout",
     "output_type": "stream",
     "text": [
      "x:\n",
      " [[1 2 3]\n",
      " [4 5 6]]\n"
     ]
    }
   ],
   "source": [
    "import numpy as np\n",
    "\n",
    "x = np.array([[1, 2, 3], [4, 5, 6]])\n",
    "print(\"x:\\n\", x)"
   ]
  },
  {
   "cell_type": "code",
   "execution_count": 2,
   "id": "sound-quantum",
   "metadata": {},
   "outputs": [
    {
     "name": "stdout",
     "output_type": "stream",
     "text": [
      "numpy:\n",
      " [[1. 0. 0. 0.]\n",
      " [0. 1. 0. 0.]\n",
      " [0. 0. 1. 0.]\n",
      " [0. 0. 0. 1.]]\n"
     ]
    }
   ],
   "source": [
    "from scipy import sparse\n",
    "\n",
    "eye = np.eye(4)\n",
    "print(\"numpy:\\n\", eye)"
   ]
  },
  {
   "cell_type": "code",
   "execution_count": 4,
   "id": "dietary-forestry",
   "metadata": {},
   "outputs": [
    {
     "name": "stdout",
     "output_type": "stream",
     "text": [
      "Scipy:\n",
      "   (0, 0)\t1.0\n",
      "  (1, 1)\t1.0\n",
      "  (2, 2)\t1.0\n",
      "  (3, 3)\t1.0\n"
     ]
    }
   ],
   "source": [
    "sparse_matrix = sparse.csr_matrix(eye)\n",
    "print(\"Scipy:\\n\", sparse_matrix)"
   ]
  },
  {
   "cell_type": "code",
   "execution_count": 5,
   "id": "responsible-breed",
   "metadata": {},
   "outputs": [
    {
     "name": "stdout",
     "output_type": "stream",
     "text": [
      "coo:\n",
      "   (0, 0)\t1.0\n",
      "  (1, 1)\t1.0\n",
      "  (2, 2)\t1.0\n",
      "  (3, 3)\t1.0\n"
     ]
    }
   ],
   "source": [
    "data = np.ones(4)\n",
    "row_indices = np.arange(4)\n",
    "col_indices = np.arange(4)\n",
    "eye_coo = sparse.coo_matrix((data, (row_indices, col_indices)))\n",
    "print(\"coo:\\n\", eye_coo)"
   ]
  },
  {
   "cell_type": "code",
   "execution_count": 9,
   "id": "facial-saskatchewan",
   "metadata": {},
   "outputs": [
    {
     "data": {
      "application/javascript": [
       "/* Put everything inside the global mpl namespace */\n",
       "window.mpl = {};\n",
       "\n",
       "\n",
       "mpl.get_websocket_type = function() {\n",
       "    if (typeof(WebSocket) !== 'undefined') {\n",
       "        return WebSocket;\n",
       "    } else if (typeof(MozWebSocket) !== 'undefined') {\n",
       "        return MozWebSocket;\n",
       "    } else {\n",
       "        alert('Your browser does not have WebSocket support. ' +\n",
       "              'Please try Chrome, Safari or Firefox ≥ 6. ' +\n",
       "              'Firefox 4 and 5 are also supported but you ' +\n",
       "              'have to enable WebSockets in about:config.');\n",
       "    };\n",
       "}\n",
       "\n",
       "mpl.figure = function(figure_id, websocket, ondownload, parent_element) {\n",
       "    this.id = figure_id;\n",
       "\n",
       "    this.ws = websocket;\n",
       "\n",
       "    this.supports_binary = (this.ws.binaryType != undefined);\n",
       "\n",
       "    if (!this.supports_binary) {\n",
       "        var warnings = document.getElementById(\"mpl-warnings\");\n",
       "        if (warnings) {\n",
       "            warnings.style.display = 'block';\n",
       "            warnings.textContent = (\n",
       "                \"This browser does not support binary websocket messages. \" +\n",
       "                    \"Performance may be slow.\");\n",
       "        }\n",
       "    }\n",
       "\n",
       "    this.imageObj = new Image();\n",
       "\n",
       "    this.context = undefined;\n",
       "    this.message = undefined;\n",
       "    this.canvas = undefined;\n",
       "    this.rubberband_canvas = undefined;\n",
       "    this.rubberband_context = undefined;\n",
       "    this.format_dropdown = undefined;\n",
       "\n",
       "    this.image_mode = 'full';\n",
       "\n",
       "    this.root = $('<div/>');\n",
       "    this._root_extra_style(this.root)\n",
       "    this.root.attr('style', 'display: inline-block');\n",
       "\n",
       "    $(parent_element).append(this.root);\n",
       "\n",
       "    this._init_header(this);\n",
       "    this._init_canvas(this);\n",
       "    this._init_toolbar(this);\n",
       "\n",
       "    var fig = this;\n",
       "\n",
       "    this.waiting = false;\n",
       "\n",
       "    this.ws.onopen =  function () {\n",
       "            fig.send_message(\"supports_binary\", {value: fig.supports_binary});\n",
       "            fig.send_message(\"send_image_mode\", {});\n",
       "            if (mpl.ratio != 1) {\n",
       "                fig.send_message(\"set_dpi_ratio\", {'dpi_ratio': mpl.ratio});\n",
       "            }\n",
       "            fig.send_message(\"refresh\", {});\n",
       "        }\n",
       "\n",
       "    this.imageObj.onload = function() {\n",
       "            if (fig.image_mode == 'full') {\n",
       "                // Full images could contain transparency (where diff images\n",
       "                // almost always do), so we need to clear the canvas so that\n",
       "                // there is no ghosting.\n",
       "                fig.context.clearRect(0, 0, fig.canvas.width, fig.canvas.height);\n",
       "            }\n",
       "            fig.context.drawImage(fig.imageObj, 0, 0);\n",
       "        };\n",
       "\n",
       "    this.imageObj.onunload = function() {\n",
       "        fig.ws.close();\n",
       "    }\n",
       "\n",
       "    this.ws.onmessage = this._make_on_message_function(this);\n",
       "\n",
       "    this.ondownload = ondownload;\n",
       "}\n",
       "\n",
       "mpl.figure.prototype._init_header = function() {\n",
       "    var titlebar = $(\n",
       "        '<div class=\"ui-dialog-titlebar ui-widget-header ui-corner-all ' +\n",
       "        'ui-helper-clearfix\"/>');\n",
       "    var titletext = $(\n",
       "        '<div class=\"ui-dialog-title\" style=\"width: 100%; ' +\n",
       "        'text-align: center; padding: 3px;\"/>');\n",
       "    titlebar.append(titletext)\n",
       "    this.root.append(titlebar);\n",
       "    this.header = titletext[0];\n",
       "}\n",
       "\n",
       "\n",
       "\n",
       "mpl.figure.prototype._canvas_extra_style = function(canvas_div) {\n",
       "\n",
       "}\n",
       "\n",
       "\n",
       "mpl.figure.prototype._root_extra_style = function(canvas_div) {\n",
       "\n",
       "}\n",
       "\n",
       "mpl.figure.prototype._init_canvas = function() {\n",
       "    var fig = this;\n",
       "\n",
       "    var canvas_div = $('<div/>');\n",
       "\n",
       "    canvas_div.attr('style', 'position: relative; clear: both; outline: 0');\n",
       "\n",
       "    function canvas_keyboard_event(event) {\n",
       "        return fig.key_event(event, event['data']);\n",
       "    }\n",
       "\n",
       "    canvas_div.keydown('key_press', canvas_keyboard_event);\n",
       "    canvas_div.keyup('key_release', canvas_keyboard_event);\n",
       "    this.canvas_div = canvas_div\n",
       "    this._canvas_extra_style(canvas_div)\n",
       "    this.root.append(canvas_div);\n",
       "\n",
       "    var canvas = $('<canvas/>');\n",
       "    canvas.addClass('mpl-canvas');\n",
       "    canvas.attr('style', \"left: 0; top: 0; z-index: 0; outline: 0\")\n",
       "\n",
       "    this.canvas = canvas[0];\n",
       "    this.context = canvas[0].getContext(\"2d\");\n",
       "\n",
       "    var backingStore = this.context.backingStorePixelRatio ||\n",
       "\tthis.context.webkitBackingStorePixelRatio ||\n",
       "\tthis.context.mozBackingStorePixelRatio ||\n",
       "\tthis.context.msBackingStorePixelRatio ||\n",
       "\tthis.context.oBackingStorePixelRatio ||\n",
       "\tthis.context.backingStorePixelRatio || 1;\n",
       "\n",
       "    mpl.ratio = (window.devicePixelRatio || 1) / backingStore;\n",
       "\n",
       "    var rubberband = $('<canvas/>');\n",
       "    rubberband.attr('style', \"position: absolute; left: 0; top: 0; z-index: 1;\")\n",
       "\n",
       "    var pass_mouse_events = true;\n",
       "\n",
       "    canvas_div.resizable({\n",
       "        start: function(event, ui) {\n",
       "            pass_mouse_events = false;\n",
       "        },\n",
       "        resize: function(event, ui) {\n",
       "            fig.request_resize(ui.size.width, ui.size.height);\n",
       "        },\n",
       "        stop: function(event, ui) {\n",
       "            pass_mouse_events = true;\n",
       "            fig.request_resize(ui.size.width, ui.size.height);\n",
       "        },\n",
       "    });\n",
       "\n",
       "    function mouse_event_fn(event) {\n",
       "        if (pass_mouse_events)\n",
       "            return fig.mouse_event(event, event['data']);\n",
       "    }\n",
       "\n",
       "    rubberband.mousedown('button_press', mouse_event_fn);\n",
       "    rubberband.mouseup('button_release', mouse_event_fn);\n",
       "    // Throttle sequential mouse events to 1 every 20ms.\n",
       "    rubberband.mousemove('motion_notify', mouse_event_fn);\n",
       "\n",
       "    rubberband.mouseenter('figure_enter', mouse_event_fn);\n",
       "    rubberband.mouseleave('figure_leave', mouse_event_fn);\n",
       "\n",
       "    canvas_div.on(\"wheel\", function (event) {\n",
       "        event = event.originalEvent;\n",
       "        event['data'] = 'scroll'\n",
       "        if (event.deltaY < 0) {\n",
       "            event.step = 1;\n",
       "        } else {\n",
       "            event.step = -1;\n",
       "        }\n",
       "        mouse_event_fn(event);\n",
       "    });\n",
       "\n",
       "    canvas_div.append(canvas);\n",
       "    canvas_div.append(rubberband);\n",
       "\n",
       "    this.rubberband = rubberband;\n",
       "    this.rubberband_canvas = rubberband[0];\n",
       "    this.rubberband_context = rubberband[0].getContext(\"2d\");\n",
       "    this.rubberband_context.strokeStyle = \"#000000\";\n",
       "\n",
       "    this._resize_canvas = function(width, height) {\n",
       "        // Keep the size of the canvas, canvas container, and rubber band\n",
       "        // canvas in synch.\n",
       "        canvas_div.css('width', width)\n",
       "        canvas_div.css('height', height)\n",
       "\n",
       "        canvas.attr('width', width * mpl.ratio);\n",
       "        canvas.attr('height', height * mpl.ratio);\n",
       "        canvas.attr('style', 'width: ' + width + 'px; height: ' + height + 'px;');\n",
       "\n",
       "        rubberband.attr('width', width);\n",
       "        rubberband.attr('height', height);\n",
       "    }\n",
       "\n",
       "    // Set the figure to an initial 600x600px, this will subsequently be updated\n",
       "    // upon first draw.\n",
       "    this._resize_canvas(600, 600);\n",
       "\n",
       "    // Disable right mouse context menu.\n",
       "    $(this.rubberband_canvas).bind(\"contextmenu\",function(e){\n",
       "        return false;\n",
       "    });\n",
       "\n",
       "    function set_focus () {\n",
       "        canvas.focus();\n",
       "        canvas_div.focus();\n",
       "    }\n",
       "\n",
       "    window.setTimeout(set_focus, 100);\n",
       "}\n",
       "\n",
       "mpl.figure.prototype._init_toolbar = function() {\n",
       "    var fig = this;\n",
       "\n",
       "    var nav_element = $('<div/>');\n",
       "    nav_element.attr('style', 'width: 100%');\n",
       "    this.root.append(nav_element);\n",
       "\n",
       "    // Define a callback function for later on.\n",
       "    function toolbar_event(event) {\n",
       "        return fig.toolbar_button_onclick(event['data']);\n",
       "    }\n",
       "    function toolbar_mouse_event(event) {\n",
       "        return fig.toolbar_button_onmouseover(event['data']);\n",
       "    }\n",
       "\n",
       "    for(var toolbar_ind in mpl.toolbar_items) {\n",
       "        var name = mpl.toolbar_items[toolbar_ind][0];\n",
       "        var tooltip = mpl.toolbar_items[toolbar_ind][1];\n",
       "        var image = mpl.toolbar_items[toolbar_ind][2];\n",
       "        var method_name = mpl.toolbar_items[toolbar_ind][3];\n",
       "\n",
       "        if (!name) {\n",
       "            // put a spacer in here.\n",
       "            continue;\n",
       "        }\n",
       "        var button = $('<button/>');\n",
       "        button.addClass('ui-button ui-widget ui-state-default ui-corner-all ' +\n",
       "                        'ui-button-icon-only');\n",
       "        button.attr('role', 'button');\n",
       "        button.attr('aria-disabled', 'false');\n",
       "        button.click(method_name, toolbar_event);\n",
       "        button.mouseover(tooltip, toolbar_mouse_event);\n",
       "\n",
       "        var icon_img = $('<span/>');\n",
       "        icon_img.addClass('ui-button-icon-primary ui-icon');\n",
       "        icon_img.addClass(image);\n",
       "        icon_img.addClass('ui-corner-all');\n",
       "\n",
       "        var tooltip_span = $('<span/>');\n",
       "        tooltip_span.addClass('ui-button-text');\n",
       "        tooltip_span.html(tooltip);\n",
       "\n",
       "        button.append(icon_img);\n",
       "        button.append(tooltip_span);\n",
       "\n",
       "        nav_element.append(button);\n",
       "    }\n",
       "\n",
       "    var fmt_picker_span = $('<span/>');\n",
       "\n",
       "    var fmt_picker = $('<select/>');\n",
       "    fmt_picker.addClass('mpl-toolbar-option ui-widget ui-widget-content');\n",
       "    fmt_picker_span.append(fmt_picker);\n",
       "    nav_element.append(fmt_picker_span);\n",
       "    this.format_dropdown = fmt_picker[0];\n",
       "\n",
       "    for (var ind in mpl.extensions) {\n",
       "        var fmt = mpl.extensions[ind];\n",
       "        var option = $(\n",
       "            '<option/>', {selected: fmt === mpl.default_extension}).html(fmt);\n",
       "        fmt_picker.append(option);\n",
       "    }\n",
       "\n",
       "    // Add hover states to the ui-buttons\n",
       "    $( \".ui-button\" ).hover(\n",
       "        function() { $(this).addClass(\"ui-state-hover\");},\n",
       "        function() { $(this).removeClass(\"ui-state-hover\");}\n",
       "    );\n",
       "\n",
       "    var status_bar = $('<span class=\"mpl-message\"/>');\n",
       "    nav_element.append(status_bar);\n",
       "    this.message = status_bar[0];\n",
       "}\n",
       "\n",
       "mpl.figure.prototype.request_resize = function(x_pixels, y_pixels) {\n",
       "    // Request matplotlib to resize the figure. Matplotlib will then trigger a resize in the client,\n",
       "    // which will in turn request a refresh of the image.\n",
       "    this.send_message('resize', {'width': x_pixels, 'height': y_pixels});\n",
       "}\n",
       "\n",
       "mpl.figure.prototype.send_message = function(type, properties) {\n",
       "    properties['type'] = type;\n",
       "    properties['figure_id'] = this.id;\n",
       "    this.ws.send(JSON.stringify(properties));\n",
       "}\n",
       "\n",
       "mpl.figure.prototype.send_draw_message = function() {\n",
       "    if (!this.waiting) {\n",
       "        this.waiting = true;\n",
       "        this.ws.send(JSON.stringify({type: \"draw\", figure_id: this.id}));\n",
       "    }\n",
       "}\n",
       "\n",
       "\n",
       "mpl.figure.prototype.handle_save = function(fig, msg) {\n",
       "    var format_dropdown = fig.format_dropdown;\n",
       "    var format = format_dropdown.options[format_dropdown.selectedIndex].value;\n",
       "    fig.ondownload(fig, format);\n",
       "}\n",
       "\n",
       "\n",
       "mpl.figure.prototype.handle_resize = function(fig, msg) {\n",
       "    var size = msg['size'];\n",
       "    if (size[0] != fig.canvas.width || size[1] != fig.canvas.height) {\n",
       "        fig._resize_canvas(size[0], size[1]);\n",
       "        fig.send_message(\"refresh\", {});\n",
       "    };\n",
       "}\n",
       "\n",
       "mpl.figure.prototype.handle_rubberband = function(fig, msg) {\n",
       "    var x0 = msg['x0'] / mpl.ratio;\n",
       "    var y0 = (fig.canvas.height - msg['y0']) / mpl.ratio;\n",
       "    var x1 = msg['x1'] / mpl.ratio;\n",
       "    var y1 = (fig.canvas.height - msg['y1']) / mpl.ratio;\n",
       "    x0 = Math.floor(x0) + 0.5;\n",
       "    y0 = Math.floor(y0) + 0.5;\n",
       "    x1 = Math.floor(x1) + 0.5;\n",
       "    y1 = Math.floor(y1) + 0.5;\n",
       "    var min_x = Math.min(x0, x1);\n",
       "    var min_y = Math.min(y0, y1);\n",
       "    var width = Math.abs(x1 - x0);\n",
       "    var height = Math.abs(y1 - y0);\n",
       "\n",
       "    fig.rubberband_context.clearRect(\n",
       "        0, 0, fig.canvas.width / mpl.ratio, fig.canvas.height / mpl.ratio);\n",
       "\n",
       "    fig.rubberband_context.strokeRect(min_x, min_y, width, height);\n",
       "}\n",
       "\n",
       "mpl.figure.prototype.handle_figure_label = function(fig, msg) {\n",
       "    // Updates the figure title.\n",
       "    fig.header.textContent = msg['label'];\n",
       "}\n",
       "\n",
       "mpl.figure.prototype.handle_cursor = function(fig, msg) {\n",
       "    var cursor = msg['cursor'];\n",
       "    switch(cursor)\n",
       "    {\n",
       "    case 0:\n",
       "        cursor = 'pointer';\n",
       "        break;\n",
       "    case 1:\n",
       "        cursor = 'default';\n",
       "        break;\n",
       "    case 2:\n",
       "        cursor = 'crosshair';\n",
       "        break;\n",
       "    case 3:\n",
       "        cursor = 'move';\n",
       "        break;\n",
       "    }\n",
       "    fig.rubberband_canvas.style.cursor = cursor;\n",
       "}\n",
       "\n",
       "mpl.figure.prototype.handle_message = function(fig, msg) {\n",
       "    fig.message.textContent = msg['message'];\n",
       "}\n",
       "\n",
       "mpl.figure.prototype.handle_draw = function(fig, msg) {\n",
       "    // Request the server to send over a new figure.\n",
       "    fig.send_draw_message();\n",
       "}\n",
       "\n",
       "mpl.figure.prototype.handle_image_mode = function(fig, msg) {\n",
       "    fig.image_mode = msg['mode'];\n",
       "}\n",
       "\n",
       "mpl.figure.prototype.updated_canvas_event = function() {\n",
       "    // Called whenever the canvas gets updated.\n",
       "    this.send_message(\"ack\", {});\n",
       "}\n",
       "\n",
       "// A function to construct a web socket function for onmessage handling.\n",
       "// Called in the figure constructor.\n",
       "mpl.figure.prototype._make_on_message_function = function(fig) {\n",
       "    return function socket_on_message(evt) {\n",
       "        if (evt.data instanceof Blob) {\n",
       "            /* FIXME: We get \"Resource interpreted as Image but\n",
       "             * transferred with MIME type text/plain:\" errors on\n",
       "             * Chrome.  But how to set the MIME type?  It doesn't seem\n",
       "             * to be part of the websocket stream */\n",
       "            evt.data.type = \"image/png\";\n",
       "\n",
       "            /* Free the memory for the previous frames */\n",
       "            if (fig.imageObj.src) {\n",
       "                (window.URL || window.webkitURL).revokeObjectURL(\n",
       "                    fig.imageObj.src);\n",
       "            }\n",
       "\n",
       "            fig.imageObj.src = (window.URL || window.webkitURL).createObjectURL(\n",
       "                evt.data);\n",
       "            fig.updated_canvas_event();\n",
       "            fig.waiting = false;\n",
       "            return;\n",
       "        }\n",
       "        else if (typeof evt.data === 'string' && evt.data.slice(0, 21) == \"data:image/png;base64\") {\n",
       "            fig.imageObj.src = evt.data;\n",
       "            fig.updated_canvas_event();\n",
       "            fig.waiting = false;\n",
       "            return;\n",
       "        }\n",
       "\n",
       "        var msg = JSON.parse(evt.data);\n",
       "        var msg_type = msg['type'];\n",
       "\n",
       "        // Call the  \"handle_{type}\" callback, which takes\n",
       "        // the figure and JSON message as its only arguments.\n",
       "        try {\n",
       "            var callback = fig[\"handle_\" + msg_type];\n",
       "        } catch (e) {\n",
       "            console.log(\"No handler for the '\" + msg_type + \"' message type: \", msg);\n",
       "            return;\n",
       "        }\n",
       "\n",
       "        if (callback) {\n",
       "            try {\n",
       "                // console.log(\"Handling '\" + msg_type + \"' message: \", msg);\n",
       "                callback(fig, msg);\n",
       "            } catch (e) {\n",
       "                console.log(\"Exception inside the 'handler_\" + msg_type + \"' callback:\", e, e.stack, msg);\n",
       "            }\n",
       "        }\n",
       "    };\n",
       "}\n",
       "\n",
       "// from http://stackoverflow.com/questions/1114465/getting-mouse-location-in-canvas\n",
       "mpl.findpos = function(e) {\n",
       "    //this section is from http://www.quirksmode.org/js/events_properties.html\n",
       "    var targ;\n",
       "    if (!e)\n",
       "        e = window.event;\n",
       "    if (e.target)\n",
       "        targ = e.target;\n",
       "    else if (e.srcElement)\n",
       "        targ = e.srcElement;\n",
       "    if (targ.nodeType == 3) // defeat Safari bug\n",
       "        targ = targ.parentNode;\n",
       "\n",
       "    // jQuery normalizes the pageX and pageY\n",
       "    // pageX,Y are the mouse positions relative to the document\n",
       "    // offset() returns the position of the element relative to the document\n",
       "    var x = e.pageX - $(targ).offset().left;\n",
       "    var y = e.pageY - $(targ).offset().top;\n",
       "\n",
       "    return {\"x\": x, \"y\": y};\n",
       "};\n",
       "\n",
       "/*\n",
       " * return a copy of an object with only non-object keys\n",
       " * we need this to avoid circular references\n",
       " * http://stackoverflow.com/a/24161582/3208463\n",
       " */\n",
       "function simpleKeys (original) {\n",
       "  return Object.keys(original).reduce(function (obj, key) {\n",
       "    if (typeof original[key] !== 'object')\n",
       "        obj[key] = original[key]\n",
       "    return obj;\n",
       "  }, {});\n",
       "}\n",
       "\n",
       "mpl.figure.prototype.mouse_event = function(event, name) {\n",
       "    var canvas_pos = mpl.findpos(event)\n",
       "\n",
       "    if (name === 'button_press')\n",
       "    {\n",
       "        this.canvas.focus();\n",
       "        this.canvas_div.focus();\n",
       "    }\n",
       "\n",
       "    var x = canvas_pos.x * mpl.ratio;\n",
       "    var y = canvas_pos.y * mpl.ratio;\n",
       "\n",
       "    this.send_message(name, {x: x, y: y, button: event.button,\n",
       "                             step: event.step,\n",
       "                             guiEvent: simpleKeys(event)});\n",
       "\n",
       "    /* This prevents the web browser from automatically changing to\n",
       "     * the text insertion cursor when the button is pressed.  We want\n",
       "     * to control all of the cursor setting manually through the\n",
       "     * 'cursor' event from matplotlib */\n",
       "    event.preventDefault();\n",
       "    return false;\n",
       "}\n",
       "\n",
       "mpl.figure.prototype._key_event_extra = function(event, name) {\n",
       "    // Handle any extra behaviour associated with a key event\n",
       "}\n",
       "\n",
       "mpl.figure.prototype.key_event = function(event, name) {\n",
       "\n",
       "    // Prevent repeat events\n",
       "    if (name == 'key_press')\n",
       "    {\n",
       "        if (event.which === this._key)\n",
       "            return;\n",
       "        else\n",
       "            this._key = event.which;\n",
       "    }\n",
       "    if (name == 'key_release')\n",
       "        this._key = null;\n",
       "\n",
       "    var value = '';\n",
       "    if (event.ctrlKey && event.which != 17)\n",
       "        value += \"ctrl+\";\n",
       "    if (event.altKey && event.which != 18)\n",
       "        value += \"alt+\";\n",
       "    if (event.shiftKey && event.which != 16)\n",
       "        value += \"shift+\";\n",
       "\n",
       "    value += 'k';\n",
       "    value += event.which.toString();\n",
       "\n",
       "    this._key_event_extra(event, name);\n",
       "\n",
       "    this.send_message(name, {key: value,\n",
       "                             guiEvent: simpleKeys(event)});\n",
       "    return false;\n",
       "}\n",
       "\n",
       "mpl.figure.prototype.toolbar_button_onclick = function(name) {\n",
       "    if (name == 'download') {\n",
       "        this.handle_save(this, null);\n",
       "    } else {\n",
       "        this.send_message(\"toolbar_button\", {name: name});\n",
       "    }\n",
       "};\n",
       "\n",
       "mpl.figure.prototype.toolbar_button_onmouseover = function(tooltip) {\n",
       "    this.message.textContent = tooltip;\n",
       "};\n",
       "mpl.toolbar_items = [[\"Home\", \"Reset original view\", \"fa fa-home icon-home\", \"home\"], [\"Back\", \"Back to previous view\", \"fa fa-arrow-left icon-arrow-left\", \"back\"], [\"Forward\", \"Forward to next view\", \"fa fa-arrow-right icon-arrow-right\", \"forward\"], [\"\", \"\", \"\", \"\"], [\"Pan\", \"Pan axes with left mouse, zoom with right\", \"fa fa-arrows icon-move\", \"pan\"], [\"Zoom\", \"Zoom to rectangle\", \"fa fa-square-o icon-check-empty\", \"zoom\"], [\"\", \"\", \"\", \"\"], [\"Download\", \"Download plot\", \"fa fa-floppy-o icon-save\", \"download\"]];\n",
       "\n",
       "mpl.extensions = [\"eps\", \"jpeg\", \"pdf\", \"png\", \"ps\", \"raw\", \"svg\", \"tif\"];\n",
       "\n",
       "mpl.default_extension = \"png\";var comm_websocket_adapter = function(comm) {\n",
       "    // Create a \"websocket\"-like object which calls the given IPython comm\n",
       "    // object with the appropriate methods. Currently this is a non binary\n",
       "    // socket, so there is still some room for performance tuning.\n",
       "    var ws = {};\n",
       "\n",
       "    ws.close = function() {\n",
       "        comm.close()\n",
       "    };\n",
       "    ws.send = function(m) {\n",
       "        //console.log('sending', m);\n",
       "        comm.send(m);\n",
       "    };\n",
       "    // Register the callback with on_msg.\n",
       "    comm.on_msg(function(msg) {\n",
       "        //console.log('receiving', msg['content']['data'], msg);\n",
       "        // Pass the mpl event to the overridden (by mpl) onmessage function.\n",
       "        ws.onmessage(msg['content']['data'])\n",
       "    });\n",
       "    return ws;\n",
       "}\n",
       "\n",
       "mpl.mpl_figure_comm = function(comm, msg) {\n",
       "    // This is the function which gets called when the mpl process\n",
       "    // starts-up an IPython Comm through the \"matplotlib\" channel.\n",
       "\n",
       "    var id = msg.content.data.id;\n",
       "    // Get hold of the div created by the display call when the Comm\n",
       "    // socket was opened in Python.\n",
       "    var element = $(\"#\" + id);\n",
       "    var ws_proxy = comm_websocket_adapter(comm)\n",
       "\n",
       "    function ondownload(figure, format) {\n",
       "        window.open(figure.imageObj.src);\n",
       "    }\n",
       "\n",
       "    var fig = new mpl.figure(id, ws_proxy,\n",
       "                           ondownload,\n",
       "                           element.get(0));\n",
       "\n",
       "    // Call onopen now - mpl needs it, as it is assuming we've passed it a real\n",
       "    // web socket which is closed, not our websocket->open comm proxy.\n",
       "    ws_proxy.onopen();\n",
       "\n",
       "    fig.parent_element = element.get(0);\n",
       "    fig.cell_info = mpl.find_output_cell(\"<div id='\" + id + \"'></div>\");\n",
       "    if (!fig.cell_info) {\n",
       "        console.error(\"Failed to find cell for figure\", id, fig);\n",
       "        return;\n",
       "    }\n",
       "\n",
       "    var output_index = fig.cell_info[2]\n",
       "    var cell = fig.cell_info[0];\n",
       "\n",
       "};\n",
       "\n",
       "mpl.figure.prototype.handle_close = function(fig, msg) {\n",
       "    var width = fig.canvas.width/mpl.ratio\n",
       "    fig.root.unbind('remove')\n",
       "\n",
       "    // Update the output cell to use the data from the current canvas.\n",
       "    fig.push_to_output();\n",
       "    var dataURL = fig.canvas.toDataURL();\n",
       "    // Re-enable the keyboard manager in IPython - without this line, in FF,\n",
       "    // the notebook keyboard shortcuts fail.\n",
       "    IPython.keyboard_manager.enable()\n",
       "    $(fig.parent_element).html('<img src=\"' + dataURL + '\" width=\"' + width + '\">');\n",
       "    fig.close_ws(fig, msg);\n",
       "}\n",
       "\n",
       "mpl.figure.prototype.close_ws = function(fig, msg){\n",
       "    fig.send_message('closing', msg);\n",
       "    // fig.ws.close()\n",
       "}\n",
       "\n",
       "mpl.figure.prototype.push_to_output = function(remove_interactive) {\n",
       "    // Turn the data on the canvas into data in the output cell.\n",
       "    var width = this.canvas.width/mpl.ratio\n",
       "    var dataURL = this.canvas.toDataURL();\n",
       "    this.cell_info[1]['text/html'] = '<img src=\"' + dataURL + '\" width=\"' + width + '\">';\n",
       "}\n",
       "\n",
       "mpl.figure.prototype.updated_canvas_event = function() {\n",
       "    // Tell IPython that the notebook contents must change.\n",
       "    IPython.notebook.set_dirty(true);\n",
       "    this.send_message(\"ack\", {});\n",
       "    var fig = this;\n",
       "    // Wait a second, then push the new image to the DOM so\n",
       "    // that it is saved nicely (might be nice to debounce this).\n",
       "    setTimeout(function () { fig.push_to_output() }, 1000);\n",
       "}\n",
       "\n",
       "mpl.figure.prototype._init_toolbar = function() {\n",
       "    var fig = this;\n",
       "\n",
       "    var nav_element = $('<div/>');\n",
       "    nav_element.attr('style', 'width: 100%');\n",
       "    this.root.append(nav_element);\n",
       "\n",
       "    // Define a callback function for later on.\n",
       "    function toolbar_event(event) {\n",
       "        return fig.toolbar_button_onclick(event['data']);\n",
       "    }\n",
       "    function toolbar_mouse_event(event) {\n",
       "        return fig.toolbar_button_onmouseover(event['data']);\n",
       "    }\n",
       "\n",
       "    for(var toolbar_ind in mpl.toolbar_items){\n",
       "        var name = mpl.toolbar_items[toolbar_ind][0];\n",
       "        var tooltip = mpl.toolbar_items[toolbar_ind][1];\n",
       "        var image = mpl.toolbar_items[toolbar_ind][2];\n",
       "        var method_name = mpl.toolbar_items[toolbar_ind][3];\n",
       "\n",
       "        if (!name) { continue; };\n",
       "\n",
       "        var button = $('<button class=\"btn btn-default\" href=\"#\" title=\"' + name + '\"><i class=\"fa ' + image + ' fa-lg\"></i></button>');\n",
       "        button.click(method_name, toolbar_event);\n",
       "        button.mouseover(tooltip, toolbar_mouse_event);\n",
       "        nav_element.append(button);\n",
       "    }\n",
       "\n",
       "    // Add the status bar.\n",
       "    var status_bar = $('<span class=\"mpl-message\" style=\"text-align:right; float: right;\"/>');\n",
       "    nav_element.append(status_bar);\n",
       "    this.message = status_bar[0];\n",
       "\n",
       "    // Add the close button to the window.\n",
       "    var buttongrp = $('<div class=\"btn-group inline pull-right\"></div>');\n",
       "    var button = $('<button class=\"btn btn-mini btn-primary\" href=\"#\" title=\"Stop Interaction\"><i class=\"fa fa-power-off icon-remove icon-large\"></i></button>');\n",
       "    button.click(function (evt) { fig.handle_close(fig, {}); } );\n",
       "    button.mouseover('Stop Interaction', toolbar_mouse_event);\n",
       "    buttongrp.append(button);\n",
       "    var titlebar = this.root.find($('.ui-dialog-titlebar'));\n",
       "    titlebar.prepend(buttongrp);\n",
       "}\n",
       "\n",
       "mpl.figure.prototype._root_extra_style = function(el){\n",
       "    var fig = this\n",
       "    el.on(\"remove\", function(){\n",
       "\tfig.close_ws(fig, {});\n",
       "    });\n",
       "}\n",
       "\n",
       "mpl.figure.prototype._canvas_extra_style = function(el){\n",
       "    // this is important to make the div 'focusable\n",
       "    el.attr('tabindex', 0)\n",
       "    // reach out to IPython and tell the keyboard manager to turn it's self\n",
       "    // off when our div gets focus\n",
       "\n",
       "    // location in version 3\n",
       "    if (IPython.notebook.keyboard_manager) {\n",
       "        IPython.notebook.keyboard_manager.register_events(el);\n",
       "    }\n",
       "    else {\n",
       "        // location in version 2\n",
       "        IPython.keyboard_manager.register_events(el);\n",
       "    }\n",
       "\n",
       "}\n",
       "\n",
       "mpl.figure.prototype._key_event_extra = function(event, name) {\n",
       "    var manager = IPython.notebook.keyboard_manager;\n",
       "    if (!manager)\n",
       "        manager = IPython.keyboard_manager;\n",
       "\n",
       "    // Check for shift+enter\n",
       "    if (event.shiftKey && event.which == 13) {\n",
       "        this.canvas_div.blur();\n",
       "        // select the cell after this one\n",
       "        var index = IPython.notebook.find_cell_index(this.cell_info[0]);\n",
       "        IPython.notebook.select(index + 1);\n",
       "    }\n",
       "}\n",
       "\n",
       "mpl.figure.prototype.handle_save = function(fig, msg) {\n",
       "    fig.ondownload(fig, null);\n",
       "}\n",
       "\n",
       "\n",
       "mpl.find_output_cell = function(html_output) {\n",
       "    // Return the cell and output element which can be found *uniquely* in the notebook.\n",
       "    // Note - this is a bit hacky, but it is done because the \"notebook_saving.Notebook\"\n",
       "    // IPython event is triggered only after the cells have been serialised, which for\n",
       "    // our purposes (turning an active figure into a static one), is too late.\n",
       "    var cells = IPython.notebook.get_cells();\n",
       "    var ncells = cells.length;\n",
       "    for (var i=0; i<ncells; i++) {\n",
       "        var cell = cells[i];\n",
       "        if (cell.cell_type === 'code'){\n",
       "            for (var j=0; j<cell.output_area.outputs.length; j++) {\n",
       "                var data = cell.output_area.outputs[j];\n",
       "                if (data.data) {\n",
       "                    // IPython >= 3 moved mimebundle to data attribute of output\n",
       "                    data = data.data;\n",
       "                }\n",
       "                if (data['text/html'] == html_output) {\n",
       "                    return [cell, data, j];\n",
       "                }\n",
       "            }\n",
       "        }\n",
       "    }\n",
       "}\n",
       "\n",
       "// Register the function which deals with the matplotlib target/channel.\n",
       "// The kernel may be null if the page has been refreshed.\n",
       "if (IPython.notebook.kernel != null) {\n",
       "    IPython.notebook.kernel.comm_manager.register_target('matplotlib', mpl.mpl_figure_comm);\n",
       "}\n"
      ],
      "text/plain": [
       "<IPython.core.display.Javascript object>"
      ]
     },
     "metadata": {},
     "output_type": "display_data"
    },
    {
     "data": {
      "text/html": [
       "<img src=\"data:image/png;base64,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\" width=\"640\">"
      ],
      "text/plain": [
       "<IPython.core.display.HTML object>"
      ]
     },
     "metadata": {},
     "output_type": "display_data"
    },
    {
     "data": {
      "text/plain": [
       "[<matplotlib.lines.Line2D at 0x7f7e759f3150>]"
      ]
     },
     "execution_count": 9,
     "metadata": {},
     "output_type": "execute_result"
    }
   ],
   "source": [
    "%matplotlib notebook\n",
    "import matplotlib.pyplot as plt\n",
    "\n",
    "x = np.linspace(-10, 10, 1000)\n",
    "y = np.sin(x)\n",
    "plt.plot(x, y)"
   ]
  },
  {
   "cell_type": "code",
   "execution_count": 10,
   "id": "polish-skill",
   "metadata": {},
   "outputs": [
    {
     "data": {
      "text/html": [
       "<div>\n",
       "<style scoped>\n",
       "    .dataframe tbody tr th:only-of-type {\n",
       "        vertical-align: middle;\n",
       "    }\n",
       "\n",
       "    .dataframe tbody tr th {\n",
       "        vertical-align: top;\n",
       "    }\n",
       "\n",
       "    .dataframe thead th {\n",
       "        text-align: right;\n",
       "    }\n",
       "</style>\n",
       "<table border=\"1\" class=\"dataframe\">\n",
       "  <thead>\n",
       "    <tr style=\"text-align: right;\">\n",
       "      <th></th>\n",
       "      <th>Name</th>\n",
       "      <th>Location</th>\n",
       "      <th>Age</th>\n",
       "    </tr>\n",
       "  </thead>\n",
       "  <tbody>\n",
       "    <tr>\n",
       "      <th>0</th>\n",
       "      <td>John</td>\n",
       "      <td>New york</td>\n",
       "      <td>24</td>\n",
       "    </tr>\n",
       "    <tr>\n",
       "      <th>1</th>\n",
       "      <td>Anna</td>\n",
       "      <td>Paris</td>\n",
       "      <td>13</td>\n",
       "    </tr>\n",
       "    <tr>\n",
       "      <th>2</th>\n",
       "      <td>Peter</td>\n",
       "      <td>Berlin</td>\n",
       "      <td>53</td>\n",
       "    </tr>\n",
       "    <tr>\n",
       "      <th>3</th>\n",
       "      <td>Linda</td>\n",
       "      <td>London</td>\n",
       "      <td>33</td>\n",
       "    </tr>\n",
       "  </tbody>\n",
       "</table>\n",
       "</div>"
      ],
      "text/plain": [
       "    Name  Location  Age\n",
       "0   John  New york   24\n",
       "1   Anna     Paris   13\n",
       "2  Peter    Berlin   53\n",
       "3  Linda    London   33"
      ]
     },
     "metadata": {},
     "output_type": "display_data"
    }
   ],
   "source": [
    "import pandas as pd\n",
    "\n",
    "data = {'Name': ['John', 'Anna', 'Peter', 'Linda'],\n",
    "       'Location': ['New york', 'Paris', 'Berlin', 'London'],\n",
    "       'Age': [24, 13, 53, 33]}\n",
    "\n",
    "data_pandas = pd.DataFrame(data)\n",
    "display(data_pandas)"
   ]
  },
  {
   "cell_type": "code",
   "execution_count": 11,
   "id": "vanilla-supervision",
   "metadata": {},
   "outputs": [
    {
     "data": {
      "text/html": [
       "<div>\n",
       "<style scoped>\n",
       "    .dataframe tbody tr th:only-of-type {\n",
       "        vertical-align: middle;\n",
       "    }\n",
       "\n",
       "    .dataframe tbody tr th {\n",
       "        vertical-align: top;\n",
       "    }\n",
       "\n",
       "    .dataframe thead th {\n",
       "        text-align: right;\n",
       "    }\n",
       "</style>\n",
       "<table border=\"1\" class=\"dataframe\">\n",
       "  <thead>\n",
       "    <tr style=\"text-align: right;\">\n",
       "      <th></th>\n",
       "      <th>Name</th>\n",
       "      <th>Location</th>\n",
       "      <th>Age</th>\n",
       "    </tr>\n",
       "  </thead>\n",
       "  <tbody>\n",
       "    <tr>\n",
       "      <th>2</th>\n",
       "      <td>Peter</td>\n",
       "      <td>Berlin</td>\n",
       "      <td>53</td>\n",
       "    </tr>\n",
       "    <tr>\n",
       "      <th>3</th>\n",
       "      <td>Linda</td>\n",
       "      <td>London</td>\n",
       "      <td>33</td>\n",
       "    </tr>\n",
       "  </tbody>\n",
       "</table>\n",
       "</div>"
      ],
      "text/plain": [
       "    Name Location  Age\n",
       "2  Peter   Berlin   53\n",
       "3  Linda   London   33"
      ]
     },
     "metadata": {},
     "output_type": "display_data"
    }
   ],
   "source": [
    "display(data_pandas[data_pandas.Age > 30])"
   ]
  },
  {
   "cell_type": "code",
   "execution_count": 12,
   "id": "complimentary-christmas",
   "metadata": {},
   "outputs": [],
   "source": [
    "from IPython.display import display\n",
    "import numpy as np\n",
    "import matplotlib.pyplot as plt\n",
    "import pandas as pd\n",
    "import mglearn"
   ]
  },
  {
   "cell_type": "code",
   "execution_count": 13,
   "id": "young-nylon",
   "metadata": {},
   "outputs": [
    {
     "name": "stdout",
     "output_type": "stream",
     "text": [
      "3.7.6 (default, Jan  8 2020, 19:59:22) \n",
      "[GCC 7.3.0]\n"
     ]
    }
   ],
   "source": [
    "import sys\n",
    "print(sys.version)"
   ]
  },
  {
   "cell_type": "code",
   "execution_count": 14,
   "id": "representative-plenty",
   "metadata": {},
   "outputs": [
    {
     "name": "stdout",
     "output_type": "stream",
     "text": [
      "1.1.3\n"
     ]
    }
   ],
   "source": [
    "print(pd.__version__)"
   ]
  },
  {
   "cell_type": "code",
   "execution_count": 16,
   "id": "electronic-birth",
   "metadata": {},
   "outputs": [
    {
     "name": "stdout",
     "output_type": "stream",
     "text": [
      "3.1.3\n"
     ]
    }
   ],
   "source": [
    "import matplotlib\n",
    "print(matplotlib.__version__)"
   ]
  },
  {
   "cell_type": "code",
   "execution_count": 17,
   "id": "early-merit",
   "metadata": {},
   "outputs": [
    {
     "name": "stdout",
     "output_type": "stream",
     "text": [
      "1.18.1\n"
     ]
    }
   ],
   "source": [
    "print(np.__version__)"
   ]
  },
  {
   "cell_type": "code",
   "execution_count": 18,
   "id": "operational-characterization",
   "metadata": {},
   "outputs": [
    {
     "name": "stdout",
     "output_type": "stream",
     "text": [
      "1.6.1\n"
     ]
    }
   ],
   "source": [
    "import scipy as sp\n",
    "print(sp.__version__)"
   ]
  },
  {
   "cell_type": "code",
   "execution_count": 19,
   "id": "narrow-strike",
   "metadata": {},
   "outputs": [
    {
     "name": "stdout",
     "output_type": "stream",
     "text": [
      "7.20.0\n"
     ]
    }
   ],
   "source": [
    "import IPython\n",
    "print(IPython.__version__)"
   ]
  },
  {
   "cell_type": "code",
   "execution_count": 20,
   "id": "social-thunder",
   "metadata": {},
   "outputs": [
    {
     "name": "stdout",
     "output_type": "stream",
     "text": [
      "0.23.2\n"
     ]
    }
   ],
   "source": [
    "import sklearn\n",
    "print(sklearn.__version__)"
   ]
  },
  {
   "cell_type": "code",
   "execution_count": 21,
   "id": "enclosed-container",
   "metadata": {},
   "outputs": [],
   "source": [
    "from sklearn.datasets import load_iris\n",
    "iris_dataset = load_iris()"
   ]
  },
  {
   "cell_type": "code",
   "execution_count": 22,
   "id": "collaborative-kentucky",
   "metadata": {},
   "outputs": [
    {
     "name": "stdout",
     "output_type": "stream",
     "text": [
      "dict_keys(['data', 'target', 'frame', 'target_names', 'DESCR', 'feature_names', 'filename'])\n"
     ]
    }
   ],
   "source": [
    "print(iris_dataset.keys())"
   ]
  },
  {
   "cell_type": "code",
   "execution_count": 23,
   "id": "unique-companion",
   "metadata": {},
   "outputs": [
    {
     "name": "stdout",
     "output_type": "stream",
     "text": [
      ".. _iris_dataset:\n",
      "\n",
      "Iris plants dataset\n",
      "--------------------\n",
      "\n",
      "**Data Set Characteristics:**\n",
      "\n",
      "    :Number of Instances: 150 (50 in each of three classes)\n",
      "    :Number of Attributes: 4 numeric, pre\n"
     ]
    }
   ],
   "source": [
    "print(iris_dataset['DESCR'][:193])"
   ]
  },
  {
   "cell_type": "code",
   "execution_count": 24,
   "id": "great-combining",
   "metadata": {},
   "outputs": [
    {
     "name": "stdout",
     "output_type": "stream",
     "text": [
      "['setosa' 'versicolor' 'virginica']\n"
     ]
    }
   ],
   "source": [
    "print(iris_dataset['target_names'])"
   ]
  },
  {
   "cell_type": "code",
   "execution_count": 25,
   "id": "clean-meter",
   "metadata": {},
   "outputs": [
    {
     "name": "stdout",
     "output_type": "stream",
     "text": [
      "['sepal length (cm)', 'sepal width (cm)', 'petal length (cm)', 'petal width (cm)']\n"
     ]
    }
   ],
   "source": [
    "print(iris_dataset['feature_names'])"
   ]
  },
  {
   "cell_type": "code",
   "execution_count": 26,
   "id": "regulation-hawaii",
   "metadata": {},
   "outputs": [
    {
     "name": "stdout",
     "output_type": "stream",
     "text": [
      "<class 'numpy.ndarray'>\n"
     ]
    }
   ],
   "source": [
    "print(type(iris_dataset['data']))"
   ]
  },
  {
   "cell_type": "code",
   "execution_count": 27,
   "id": "daily-valley",
   "metadata": {},
   "outputs": [
    {
     "name": "stdout",
     "output_type": "stream",
     "text": [
      "(150, 4)\n"
     ]
    }
   ],
   "source": [
    "print(iris_dataset['data'].shape)"
   ]
  },
  {
   "cell_type": "code",
   "execution_count": 28,
   "id": "effective-chaos",
   "metadata": {},
   "outputs": [
    {
     "name": "stdout",
     "output_type": "stream",
     "text": [
      "[[5.1 3.5 1.4 0.2]\n",
      " [4.9 3.  1.4 0.2]\n",
      " [4.7 3.2 1.3 0.2]\n",
      " [4.6 3.1 1.5 0.2]\n",
      " [5.  3.6 1.4 0.2]]\n"
     ]
    }
   ],
   "source": [
    "print(iris_dataset['data'][:5])"
   ]
  },
  {
   "cell_type": "code",
   "execution_count": 29,
   "id": "sweet-friendly",
   "metadata": {},
   "outputs": [
    {
     "name": "stdout",
     "output_type": "stream",
     "text": [
      "<class 'numpy.ndarray'>\n"
     ]
    }
   ],
   "source": [
    "print(type(iris_dataset['target']))"
   ]
  },
  {
   "cell_type": "code",
   "execution_count": 30,
   "id": "soviet-multiple",
   "metadata": {},
   "outputs": [
    {
     "name": "stdout",
     "output_type": "stream",
     "text": [
      "(150,)\n"
     ]
    }
   ],
   "source": [
    "print(iris_dataset['target'].shape)"
   ]
  },
  {
   "cell_type": "code",
   "execution_count": 31,
   "id": "gross-physiology",
   "metadata": {},
   "outputs": [
    {
     "data": {
      "text/plain": [
       "array([0, 0, 0, 0, 0, 0, 0, 0, 0, 0, 0, 0, 0, 0, 0, 0, 0, 0, 0, 0, 0, 0,\n",
       "       0, 0, 0, 0, 0, 0, 0, 0, 0, 0, 0, 0, 0, 0, 0, 0, 0, 0, 0, 0, 0, 0,\n",
       "       0, 0, 0, 0, 0, 0, 1, 1, 1, 1, 1, 1, 1, 1, 1, 1, 1, 1, 1, 1, 1, 1,\n",
       "       1, 1, 1, 1, 1, 1, 1, 1, 1, 1, 1, 1, 1, 1, 1, 1, 1, 1, 1, 1, 1, 1,\n",
       "       1, 1, 1, 1, 1, 1, 1, 1, 1, 1, 1, 1, 2, 2, 2, 2, 2, 2, 2, 2, 2, 2,\n",
       "       2, 2, 2, 2, 2, 2, 2, 2, 2, 2, 2, 2, 2, 2, 2, 2, 2, 2, 2, 2, 2, 2,\n",
       "       2, 2, 2, 2, 2, 2, 2, 2, 2, 2, 2, 2, 2, 2, 2, 2, 2, 2])"
      ]
     },
     "metadata": {},
     "output_type": "display_data"
    }
   ],
   "source": [
    "display(iris_dataset['target'])"
   ]
  },
  {
   "cell_type": "code",
   "execution_count": 32,
   "id": "sustainable-appeal",
   "metadata": {},
   "outputs": [
    {
     "name": "stdout",
     "output_type": "stream",
     "text": [
      "{'data': array([[5.1, 3.5, 1.4, 0.2],\n",
      "       [4.9, 3. , 1.4, 0.2],\n",
      "       [4.7, 3.2, 1.3, 0.2],\n",
      "       [4.6, 3.1, 1.5, 0.2],\n",
      "       [5. , 3.6, 1.4, 0.2],\n",
      "       [5.4, 3.9, 1.7, 0.4],\n",
      "       [4.6, 3.4, 1.4, 0.3],\n",
      "       [5. , 3.4, 1.5, 0.2],\n",
      "       [4.4, 2.9, 1.4, 0.2],\n",
      "       [4.9, 3.1, 1.5, 0.1],\n",
      "       [5.4, 3.7, 1.5, 0.2],\n",
      "       [4.8, 3.4, 1.6, 0.2],\n",
      "       [4.8, 3. , 1.4, 0.1],\n",
      "       [4.3, 3. , 1.1, 0.1],\n",
      "       [5.8, 4. , 1.2, 0.2],\n",
      "       [5.7, 4.4, 1.5, 0.4],\n",
      "       [5.4, 3.9, 1.3, 0.4],\n",
      "       [5.1, 3.5, 1.4, 0.3],\n",
      "       [5.7, 3.8, 1.7, 0.3],\n",
      "       [5.1, 3.8, 1.5, 0.3],\n",
      "       [5.4, 3.4, 1.7, 0.2],\n",
      "       [5.1, 3.7, 1.5, 0.4],\n",
      "       [4.6, 3.6, 1. , 0.2],\n",
      "       [5.1, 3.3, 1.7, 0.5],\n",
      "       [4.8, 3.4, 1.9, 0.2],\n",
      "       [5. , 3. , 1.6, 0.2],\n",
      "       [5. , 3.4, 1.6, 0.4],\n",
      "       [5.2, 3.5, 1.5, 0.2],\n",
      "       [5.2, 3.4, 1.4, 0.2],\n",
      "       [4.7, 3.2, 1.6, 0.2],\n",
      "       [4.8, 3.1, 1.6, 0.2],\n",
      "       [5.4, 3.4, 1.5, 0.4],\n",
      "       [5.2, 4.1, 1.5, 0.1],\n",
      "       [5.5, 4.2, 1.4, 0.2],\n",
      "       [4.9, 3.1, 1.5, 0.2],\n",
      "       [5. , 3.2, 1.2, 0.2],\n",
      "       [5.5, 3.5, 1.3, 0.2],\n",
      "       [4.9, 3.6, 1.4, 0.1],\n",
      "       [4.4, 3. , 1.3, 0.2],\n",
      "       [5.1, 3.4, 1.5, 0.2],\n",
      "       [5. , 3.5, 1.3, 0.3],\n",
      "       [4.5, 2.3, 1.3, 0.3],\n",
      "       [4.4, 3.2, 1.3, 0.2],\n",
      "       [5. , 3.5, 1.6, 0.6],\n",
      "       [5.1, 3.8, 1.9, 0.4],\n",
      "       [4.8, 3. , 1.4, 0.3],\n",
      "       [5.1, 3.8, 1.6, 0.2],\n",
      "       [4.6, 3.2, 1.4, 0.2],\n",
      "       [5.3, 3.7, 1.5, 0.2],\n",
      "       [5. , 3.3, 1.4, 0.2],\n",
      "       [7. , 3.2, 4.7, 1.4],\n",
      "       [6.4, 3.2, 4.5, 1.5],\n",
      "       [6.9, 3.1, 4.9, 1.5],\n",
      "       [5.5, 2.3, 4. , 1.3],\n",
      "       [6.5, 2.8, 4.6, 1.5],\n",
      "       [5.7, 2.8, 4.5, 1.3],\n",
      "       [6.3, 3.3, 4.7, 1.6],\n",
      "       [4.9, 2.4, 3.3, 1. ],\n",
      "       [6.6, 2.9, 4.6, 1.3],\n",
      "       [5.2, 2.7, 3.9, 1.4],\n",
      "       [5. , 2. , 3.5, 1. ],\n",
      "       [5.9, 3. , 4.2, 1.5],\n",
      "       [6. , 2.2, 4. , 1. ],\n",
      "       [6.1, 2.9, 4.7, 1.4],\n",
      "       [5.6, 2.9, 3.6, 1.3],\n",
      "       [6.7, 3.1, 4.4, 1.4],\n",
      "       [5.6, 3. , 4.5, 1.5],\n",
      "       [5.8, 2.7, 4.1, 1. ],\n",
      "       [6.2, 2.2, 4.5, 1.5],\n",
      "       [5.6, 2.5, 3.9, 1.1],\n",
      "       [5.9, 3.2, 4.8, 1.8],\n",
      "       [6.1, 2.8, 4. , 1.3],\n",
      "       [6.3, 2.5, 4.9, 1.5],\n",
      "       [6.1, 2.8, 4.7, 1.2],\n",
      "       [6.4, 2.9, 4.3, 1.3],\n",
      "       [6.6, 3. , 4.4, 1.4],\n",
      "       [6.8, 2.8, 4.8, 1.4],\n",
      "       [6.7, 3. , 5. , 1.7],\n",
      "       [6. , 2.9, 4.5, 1.5],\n",
      "       [5.7, 2.6, 3.5, 1. ],\n",
      "       [5.5, 2.4, 3.8, 1.1],\n",
      "       [5.5, 2.4, 3.7, 1. ],\n",
      "       [5.8, 2.7, 3.9, 1.2],\n",
      "       [6. , 2.7, 5.1, 1.6],\n",
      "       [5.4, 3. , 4.5, 1.5],\n",
      "       [6. , 3.4, 4.5, 1.6],\n",
      "       [6.7, 3.1, 4.7, 1.5],\n",
      "       [6.3, 2.3, 4.4, 1.3],\n",
      "       [5.6, 3. , 4.1, 1.3],\n",
      "       [5.5, 2.5, 4. , 1.3],\n",
      "       [5.5, 2.6, 4.4, 1.2],\n",
      "       [6.1, 3. , 4.6, 1.4],\n",
      "       [5.8, 2.6, 4. , 1.2],\n",
      "       [5. , 2.3, 3.3, 1. ],\n",
      "       [5.6, 2.7, 4.2, 1.3],\n",
      "       [5.7, 3. , 4.2, 1.2],\n",
      "       [5.7, 2.9, 4.2, 1.3],\n",
      "       [6.2, 2.9, 4.3, 1.3],\n",
      "       [5.1, 2.5, 3. , 1.1],\n",
      "       [5.7, 2.8, 4.1, 1.3],\n",
      "       [6.3, 3.3, 6. , 2.5],\n",
      "       [5.8, 2.7, 5.1, 1.9],\n",
      "       [7.1, 3. , 5.9, 2.1],\n",
      "       [6.3, 2.9, 5.6, 1.8],\n",
      "       [6.5, 3. , 5.8, 2.2],\n",
      "       [7.6, 3. , 6.6, 2.1],\n",
      "       [4.9, 2.5, 4.5, 1.7],\n",
      "       [7.3, 2.9, 6.3, 1.8],\n",
      "       [6.7, 2.5, 5.8, 1.8],\n",
      "       [7.2, 3.6, 6.1, 2.5],\n",
      "       [6.5, 3.2, 5.1, 2. ],\n",
      "       [6.4, 2.7, 5.3, 1.9],\n",
      "       [6.8, 3. , 5.5, 2.1],\n",
      "       [5.7, 2.5, 5. , 2. ],\n",
      "       [5.8, 2.8, 5.1, 2.4],\n",
      "       [6.4, 3.2, 5.3, 2.3],\n",
      "       [6.5, 3. , 5.5, 1.8],\n",
      "       [7.7, 3.8, 6.7, 2.2],\n",
      "       [7.7, 2.6, 6.9, 2.3],\n",
      "       [6. , 2.2, 5. , 1.5],\n",
      "       [6.9, 3.2, 5.7, 2.3],\n",
      "       [5.6, 2.8, 4.9, 2. ],\n",
      "       [7.7, 2.8, 6.7, 2. ],\n",
      "       [6.3, 2.7, 4.9, 1.8],\n",
      "       [6.7, 3.3, 5.7, 2.1],\n",
      "       [7.2, 3.2, 6. , 1.8],\n",
      "       [6.2, 2.8, 4.8, 1.8],\n",
      "       [6.1, 3. , 4.9, 1.8],\n",
      "       [6.4, 2.8, 5.6, 2.1],\n",
      "       [7.2, 3. , 5.8, 1.6],\n",
      "       [7.4, 2.8, 6.1, 1.9],\n",
      "       [7.9, 3.8, 6.4, 2. ],\n",
      "       [6.4, 2.8, 5.6, 2.2],\n",
      "       [6.3, 2.8, 5.1, 1.5],\n",
      "       [6.1, 2.6, 5.6, 1.4],\n",
      "       [7.7, 3. , 6.1, 2.3],\n",
      "       [6.3, 3.4, 5.6, 2.4],\n",
      "       [6.4, 3.1, 5.5, 1.8],\n",
      "       [6. , 3. , 4.8, 1.8],\n",
      "       [6.9, 3.1, 5.4, 2.1],\n",
      "       [6.7, 3.1, 5.6, 2.4],\n",
      "       [6.9, 3.1, 5.1, 2.3],\n",
      "       [5.8, 2.7, 5.1, 1.9],\n",
      "       [6.8, 3.2, 5.9, 2.3],\n",
      "       [6.7, 3.3, 5.7, 2.5],\n",
      "       [6.7, 3. , 5.2, 2.3],\n",
      "       [6.3, 2.5, 5. , 1.9],\n",
      "       [6.5, 3. , 5.2, 2. ],\n",
      "       [6.2, 3.4, 5.4, 2.3],\n",
      "       [5.9, 3. , 5.1, 1.8]]), 'target': array([0, 0, 0, 0, 0, 0, 0, 0, 0, 0, 0, 0, 0, 0, 0, 0, 0, 0, 0, 0, 0, 0,\n",
      "       0, 0, 0, 0, 0, 0, 0, 0, 0, 0, 0, 0, 0, 0, 0, 0, 0, 0, 0, 0, 0, 0,\n",
      "       0, 0, 0, 0, 0, 0, 1, 1, 1, 1, 1, 1, 1, 1, 1, 1, 1, 1, 1, 1, 1, 1,\n",
      "       1, 1, 1, 1, 1, 1, 1, 1, 1, 1, 1, 1, 1, 1, 1, 1, 1, 1, 1, 1, 1, 1,\n",
      "       1, 1, 1, 1, 1, 1, 1, 1, 1, 1, 1, 1, 2, 2, 2, 2, 2, 2, 2, 2, 2, 2,\n",
      "       2, 2, 2, 2, 2, 2, 2, 2, 2, 2, 2, 2, 2, 2, 2, 2, 2, 2, 2, 2, 2, 2,\n",
      "       2, 2, 2, 2, 2, 2, 2, 2, 2, 2, 2, 2, 2, 2, 2, 2, 2, 2]), 'frame': None, 'target_names': array(['setosa', 'versicolor', 'virginica'], dtype='<U10'), 'DESCR': '.. _iris_dataset:\\n\\nIris plants dataset\\n--------------------\\n\\n**Data Set Characteristics:**\\n\\n    :Number of Instances: 150 (50 in each of three classes)\\n    :Number of Attributes: 4 numeric, predictive attributes and the class\\n    :Attribute Information:\\n        - sepal length in cm\\n        - sepal width in cm\\n        - petal length in cm\\n        - petal width in cm\\n        - class:\\n                - Iris-Setosa\\n                - Iris-Versicolour\\n                - Iris-Virginica\\n                \\n    :Summary Statistics:\\n\\n    ============== ==== ==== ======= ===== ====================\\n                    Min  Max   Mean    SD   Class Correlation\\n    ============== ==== ==== ======= ===== ====================\\n    sepal length:   4.3  7.9   5.84   0.83    0.7826\\n    sepal width:    2.0  4.4   3.05   0.43   -0.4194\\n    petal length:   1.0  6.9   3.76   1.76    0.9490  (high!)\\n    petal width:    0.1  2.5   1.20   0.76    0.9565  (high!)\\n    ============== ==== ==== ======= ===== ====================\\n\\n    :Missing Attribute Values: None\\n    :Class Distribution: 33.3% for each of 3 classes.\\n    :Creator: R.A. Fisher\\n    :Donor: Michael Marshall (MARSHALL%PLU@io.arc.nasa.gov)\\n    :Date: July, 1988\\n\\nThe famous Iris database, first used by Sir R.A. Fisher. The dataset is taken\\nfrom Fisher\\'s paper. Note that it\\'s the same as in R, but not as in the UCI\\nMachine Learning Repository, which has two wrong data points.\\n\\nThis is perhaps the best known database to be found in the\\npattern recognition literature.  Fisher\\'s paper is a classic in the field and\\nis referenced frequently to this day.  (See Duda & Hart, for example.)  The\\ndata set contains 3 classes of 50 instances each, where each class refers to a\\ntype of iris plant.  One class is linearly separable from the other 2; the\\nlatter are NOT linearly separable from each other.\\n\\n.. topic:: References\\n\\n   - Fisher, R.A. \"The use of multiple measurements in taxonomic problems\"\\n     Annual Eugenics, 7, Part II, 179-188 (1936); also in \"Contributions to\\n     Mathematical Statistics\" (John Wiley, NY, 1950).\\n   - Duda, R.O., & Hart, P.E. (1973) Pattern Classification and Scene Analysis.\\n     (Q327.D83) John Wiley & Sons.  ISBN 0-471-22361-1.  See page 218.\\n   - Dasarathy, B.V. (1980) \"Nosing Around the Neighborhood: A New System\\n     Structure and Classification Rule for Recognition in Partially Exposed\\n     Environments\".  IEEE Transactions on Pattern Analysis and Machine\\n     Intelligence, Vol. PAMI-2, No. 1, 67-71.\\n   - Gates, G.W. (1972) \"The Reduced Nearest Neighbor Rule\".  IEEE Transactions\\n     on Information Theory, May 1972, 431-433.\\n   - See also: 1988 MLC Proceedings, 54-64.  Cheeseman et al\"s AUTOCLASS II\\n     conceptual clustering system finds 3 classes in the data.\\n   - Many, many more ...', 'feature_names': ['sepal length (cm)', 'sepal width (cm)', 'petal length (cm)', 'petal width (cm)'], 'filename': '/home/arti/anaconda3/lib/python3.7/site-packages/sklearn/datasets/data/iris.csv'}\n"
     ]
    }
   ],
   "source": [
    "print(iris_dataset)"
   ]
  },
  {
   "cell_type": "code",
   "execution_count": 33,
   "id": "transsexual-basics",
   "metadata": {},
   "outputs": [],
   "source": [
    "from sklearn.model_selection import train_test_split\n",
    "X_train, X_test, y_train, y_test = train_test_split(\n",
    "    iris_dataset['data'], iris_dataset['target'], random_state=0)"
   ]
  },
  {
   "cell_type": "code",
   "execution_count": 34,
   "id": "liked-nightlife",
   "metadata": {},
   "outputs": [
    {
     "name": "stdout",
     "output_type": "stream",
     "text": [
      "(112, 4)\n",
      "(112,)\n"
     ]
    }
   ],
   "source": [
    "print(X_train.shape)\n",
    "print(y_train.shape)"
   ]
  },
  {
   "cell_type": "code",
   "execution_count": 35,
   "id": "arbitrary-layer",
   "metadata": {},
   "outputs": [
    {
     "name": "stdout",
     "output_type": "stream",
     "text": [
      "(38, 4)\n",
      "(38,)\n"
     ]
    }
   ],
   "source": [
    "print(X_test.shape)\n",
    "print(y_test.shape)"
   ]
  },
  {
   "cell_type": "code",
   "execution_count": 36,
   "id": "standing-collective",
   "metadata": {},
   "outputs": [],
   "source": [
    "iris_dataframe = pd.DataFrame(X_train, columns=iris_dataset.feature_names)"
   ]
  },
  {
   "cell_type": "code",
   "execution_count": 38,
   "id": "distinguished-discount",
   "metadata": {},
   "outputs": [
    {
     "data": {
      "text/plain": [
       "array([[<matplotlib.axes._subplots.AxesSubplot object at 0x7f7e6c698b50>,\n",
       "        <matplotlib.axes._subplots.AxesSubplot object at 0x7f7e75a35510>,\n",
       "        <matplotlib.axes._subplots.AxesSubplot object at 0x7f7e75a22f10>,\n",
       "        <matplotlib.axes._subplots.AxesSubplot object at 0x7f7e6815c550>],\n",
       "       [<matplotlib.axes._subplots.AxesSubplot object at 0x7f7e6811f310>,\n",
       "        <matplotlib.axes._subplots.AxesSubplot object at 0x7f7e680d19d0>,\n",
       "        <matplotlib.axes._subplots.AxesSubplot object at 0x7f7e6809bc10>,\n",
       "        <matplotlib.axes._subplots.AxesSubplot object at 0x7f7e6805cf90>],\n",
       "       [<matplotlib.axes._subplots.AxesSubplot object at 0x7f7e68045a10>,\n",
       "        <matplotlib.axes._subplots.AxesSubplot object at 0x7f7e6801c910>,\n",
       "        <matplotlib.axes._subplots.AxesSubplot object at 0x7f7e67ffb290>,\n",
       "        <matplotlib.axes._subplots.AxesSubplot object at 0x7f7e67fb1a90>],\n",
       "       [<matplotlib.axes._subplots.AxesSubplot object at 0x7f7e67f6f2d0>,\n",
       "        <matplotlib.axes._subplots.AxesSubplot object at 0x7f7e67f27ad0>,\n",
       "        <matplotlib.axes._subplots.AxesSubplot object at 0x7f7e67ee8310>,\n",
       "        <matplotlib.axes._subplots.AxesSubplot object at 0x7f7e67e9cb10>]],\n",
       "      dtype=object)"
      ]
     },
     "execution_count": 38,
     "metadata": {},
     "output_type": "execute_result"
    },
    {
     "data": {
      "image/png": "[encoded data removed]",
      "text/plain": [
       "<Figure size 1080x1080 with 16 Axes>"
      ]
     },
     "metadata": {
      "needs_background": "light"
     },
     "output_type": "display_data"
    }
   ],
   "source": [
    "%matplotlib inline\n",
    "pd.plotting.scatter_matrix(iris_dataframe, c=y_train, figsize=(15, 15), marker='o',\n",
    "                           hist_kwds={'bins': 20}, s=60, alpha=.8, cmap=mglearn.cm3)"
   ]
  },
  {
   "cell_type": "code",
   "execution_count": 39,
   "id": "hidden-business",
   "metadata": {},
   "outputs": [
    {
     "name": "stdout",
     "output_type": "stream",
     "text": [
      "[[5.9 3.  4.2 1.5]\n",
      " [5.8 2.6 4.  1.2]\n",
      " [6.8 3.  5.5 2.1]\n",
      " [4.7 3.2 1.3 0.2]\n",
      " [6.9 3.1 5.1 2.3]\n",
      " [5.  3.5 1.6 0.6]\n",
      " [5.4 3.7 1.5 0.2]\n",
      " [5.  2.  3.5 1. ]\n",
      " [6.5 3.  5.5 1.8]\n",
      " [6.7 3.3 5.7 2.5]\n",
      " [6.  2.2 5.  1.5]\n",
      " [6.7 2.5 5.8 1.8]\n",
      " [5.6 2.5 3.9 1.1]\n",
      " [7.7 3.  6.1 2.3]\n",
      " [6.3 3.3 4.7 1.6]\n",
      " [5.5 2.4 3.8 1.1]\n",
      " [6.3 2.7 4.9 1.8]\n",
      " [6.3 2.8 5.1 1.5]\n",
      " [4.9 2.5 4.5 1.7]\n",
      " [6.3 2.5 5.  1.9]\n",
      " [7.  3.2 4.7 1.4]\n",
      " [6.5 3.  5.2 2. ]\n",
      " [6.  3.4 4.5 1.6]\n",
      " [4.8 3.1 1.6 0.2]\n",
      " [5.8 2.7 5.1 1.9]\n",
      " [5.6 2.7 4.2 1.3]\n",
      " [5.6 2.9 3.6 1.3]\n",
      " [5.5 2.5 4.  1.3]\n",
      " [6.1 3.  4.6 1.4]\n",
      " [7.2 3.2 6.  1.8]\n",
      " [5.3 3.7 1.5 0.2]\n",
      " [4.3 3.  1.1 0.1]\n",
      " [6.4 2.7 5.3 1.9]\n",
      " [5.7 3.  4.2 1.2]\n",
      " [5.4 3.4 1.7 0.2]\n",
      " [5.7 4.4 1.5 0.4]\n",
      " [6.9 3.1 4.9 1.5]\n",
      " [4.6 3.1 1.5 0.2]\n",
      " [5.9 3.  5.1 1.8]\n",
      " [5.1 2.5 3.  1.1]\n",
      " [4.6 3.4 1.4 0.3]\n",
      " [6.2 2.2 4.5 1.5]\n",
      " [7.2 3.6 6.1 2.5]\n",
      " [5.7 2.9 4.2 1.3]\n",
      " [4.8 3.  1.4 0.1]\n",
      " [7.1 3.  5.9 2.1]\n",
      " [6.9 3.2 5.7 2.3]\n",
      " [6.5 3.  5.8 2.2]\n",
      " [6.4 2.8 5.6 2.1]\n",
      " [5.1 3.8 1.6 0.2]\n",
      " [4.8 3.4 1.6 0.2]\n",
      " [6.5 3.2 5.1 2. ]\n",
      " [6.7 3.3 5.7 2.1]\n",
      " [4.5 2.3 1.3 0.3]\n",
      " [6.2 3.4 5.4 2.3]\n",
      " [4.9 3.  1.4 0.2]\n",
      " [5.7 2.5 5.  2. ]\n",
      " [6.9 3.1 5.4 2.1]\n",
      " [4.4 3.2 1.3 0.2]\n",
      " [5.  3.6 1.4 0.2]\n",
      " [7.2 3.  5.8 1.6]\n",
      " [5.1 3.5 1.4 0.3]\n",
      " [4.4 3.  1.3 0.2]\n",
      " [5.4 3.9 1.7 0.4]\n",
      " [5.5 2.3 4.  1.3]\n",
      " [6.8 3.2 5.9 2.3]\n",
      " [7.6 3.  6.6 2.1]\n",
      " [5.1 3.5 1.4 0.2]\n",
      " [4.9 3.1 1.5 0.2]\n",
      " [5.2 3.4 1.4 0.2]\n",
      " [5.7 2.8 4.5 1.3]\n",
      " [6.6 3.  4.4 1.4]\n",
      " [5.  3.2 1.2 0.2]\n",
      " [5.1 3.3 1.7 0.5]\n",
      " [6.4 2.9 4.3 1.3]\n",
      " [5.4 3.4 1.5 0.4]\n",
      " [7.7 2.6 6.9 2.3]\n",
      " [4.9 2.4 3.3 1. ]\n",
      " [7.9 3.8 6.4 2. ]\n",
      " [6.7 3.1 4.4 1.4]\n",
      " [5.2 4.1 1.5 0.1]\n",
      " [6.  3.  4.8 1.8]\n",
      " [5.8 4.  1.2 0.2]\n",
      " [7.7 2.8 6.7 2. ]\n",
      " [5.1 3.8 1.5 0.3]\n",
      " [4.7 3.2 1.6 0.2]\n",
      " [7.4 2.8 6.1 1.9]\n",
      " [5.  3.3 1.4 0.2]\n",
      " [6.3 3.4 5.6 2.4]\n",
      " [5.7 2.8 4.1 1.3]\n",
      " [5.8 2.7 3.9 1.2]\n",
      " [5.7 2.6 3.5 1. ]\n",
      " [6.4 3.2 5.3 2.3]\n",
      " [6.7 3.  5.2 2.3]\n",
      " [6.3 2.5 4.9 1.5]\n",
      " [6.7 3.  5.  1.7]\n",
      " [5.  3.  1.6 0.2]\n",
      " [5.5 2.4 3.7 1. ]\n",
      " [6.7 3.1 5.6 2.4]\n",
      " [5.8 2.7 5.1 1.9]\n",
      " [5.1 3.4 1.5 0.2]\n",
      " [6.6 2.9 4.6 1.3]\n",
      " [5.6 3.  4.1 1.3]\n",
      " [5.9 3.2 4.8 1.8]\n",
      " [6.3 2.3 4.4 1.3]\n",
      " [5.5 3.5 1.3 0.2]\n",
      " [5.1 3.7 1.5 0.4]\n",
      " [4.9 3.1 1.5 0.1]\n",
      " [6.3 2.9 5.6 1.8]\n",
      " [5.8 2.7 4.1 1. ]\n",
      " [7.7 3.8 6.7 2.2]\n",
      " [4.6 3.2 1.4 0.2]]\n"
     ]
    }
   ],
   "source": [
    "print(X_train)"
   ]
  },
  {
   "cell_type": "code",
   "execution_count": 40,
   "id": "empirical-temperature",
   "metadata": {},
   "outputs": [],
   "source": [
    "from sklearn.neighbors import KNeighborsClassifier\n",
    "knn = KNeighborsClassifier(n_neighbors=1)"
   ]
  },
  {
   "cell_type": "code",
   "execution_count": 41,
   "id": "conditional-adapter",
   "metadata": {},
   "outputs": [
    {
     "data": {
      "text/plain": [
       "KNeighborsClassifier(n_neighbors=1)"
      ]
     },
     "execution_count": 41,
     "metadata": {},
     "output_type": "execute_result"
    }
   ],
   "source": [
    "knn.fit(X_train, y_train)"
   ]
  },
  {
   "cell_type": "code",
   "execution_count": 43,
   "id": "binding-quality",
   "metadata": {},
   "outputs": [
    {
     "name": "stdout",
     "output_type": "stream",
     "text": [
      "(1, 4)\n"
     ]
    }
   ],
   "source": [
    "X_new = np.array([[5, 2.9, 1, 0.2]])\n",
    "print(X_new.shape)"
   ]
  },
  {
   "cell_type": "code",
   "execution_count": 44,
   "id": "environmental-consequence",
   "metadata": {},
   "outputs": [
    {
     "name": "stdout",
     "output_type": "stream",
     "text": [
      "[0]\n",
      "['setosa']\n"
     ]
    }
   ],
   "source": [
    "prediction = knn.predict(X_new)\n",
    "print(prediction)\n",
    "print(iris_dataset['target_names'][prediction])"
   ]
  },
  {
   "cell_type": "code",
   "execution_count": 45,
   "id": "contrary-debut",
   "metadata": {},
   "outputs": [
    {
     "name": "stdout",
     "output_type": "stream",
     "text": [
      "[2 1 0 2 0 2 0 1 1 1 2 1 1 1 1 0 1 1 0 0 2 1 0 0 2 0 0 1 1 0 2 1 0 2 2 1 0\n",
      " 2]\n"
     ]
    }
   ],
   "source": [
    "y_pred = knn.predict(X_test)\n",
    "print(y_pred)"
   ]
  },
  {
   "cell_type": "code",
   "execution_count": 46,
   "id": "german-quick",
   "metadata": {},
   "outputs": [
    {
     "name": "stdout",
     "output_type": "stream",
     "text": [
      "0.9736842105263158\n"
     ]
    }
   ],
   "source": [
    "print(np.mean(y_pred == y_test))"
   ]
  },
  {
   "cell_type": "code",
   "execution_count": 47,
   "id": "brutal-ferry",
   "metadata": {},
   "outputs": [
    {
     "name": "stdout",
     "output_type": "stream",
     "text": [
      "0.9736842105263158\n"
     ]
    }
   ],
   "source": [
    "print(knn.score(X_test, y_test))"
   ]
  },
  {
   "cell_type": "code",
   "execution_count": null,
   "id": "dependent-nature",
   "metadata": {},
   "outputs": [],
   "source": []
  }
 ],
 "metadata": {
  "kernelspec": {
   "display_name": "Python 3",
   "language": "python",
   "name": "python3"
  },
  "language_info": {
   "codemirror_mode": {
    "name": "ipython",
    "version": 3
   },
   "file_extension": ".py",
   "mimetype": "text/x-python",
   "name": "python",
   "nbconvert_exporter": "python",
   "pygments_lexer": "ipython3",
   "version": "3.7.6"
  }
 },
 "nbformat": 4,
 "nbformat_minor": 5
}
